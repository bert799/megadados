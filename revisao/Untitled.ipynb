{
 "cells": [
  {
   "cell_type": "code",
   "execution_count": 1,
   "metadata": {},
   "outputs": [],
   "source": [
    "import mysql.connector\n",
    "from functools import partial\n",
    "\n",
    "\n",
    "def get_connection_helper():\n",
    "\n",
    "    def run_db_query(connection, query, args=None):\n",
    "        with connection.cursor() as cursor:\n",
    "            print('Executando query:')\n",
    "            cursor.execute(query, args)\n",
    "            for result in cursor:\n",
    "                print(result)\n",
    "\n",
    "    connection = mysql.connector.connect(\n",
    "        host='localhost',\n",
    "        user='megadados',\n",
    "        password='megadados',\n",
    "        database='agro',\n",
    "    )\n",
    "    return connection, partial(run_db_query, connection)\n",
    "\n",
    "\n",
    "connection, db = get_connection_helper()"
   ]
  },
  {
   "cell_type": "code",
   "execution_count": 2,
   "metadata": {},
   "outputs": [
    {
     "name": "stdout",
     "output_type": "stream",
     "text": [
      "Executando query:\n",
      "(1, 'Terra Forte')\n",
      "(2, 'Agua Brava')\n"
     ]
    }
   ],
   "source": [
    "db('''\n",
    "SELECT\n",
    "    *\n",
    "FROM \n",
    "    fazenda\n",
    "\n",
    "''')"
   ]
  },
  {
   "cell_type": "code",
   "execution_count": 4,
   "metadata": {},
   "outputs": [
    {
     "name": "stdout",
     "output_type": "stream",
     "text": [
      "Executando query:\n",
      "('Agua Brava', 280.0)\n"
     ]
    }
   ],
   "source": [
    "db('''\n",
    "SELECT\n",
    "    fazenda.nome, SUM(area) as tamanho\n",
    "FROM \n",
    "    fazenda\n",
    "    INNER JOIN lote USING(id_fazenda)\n",
    "GROUP BY\n",
    "    id_fazenda\n",
    "ORDER BY\n",
    "    tamanho DESC\n",
    "LIMIT \n",
    "    1\n",
    "''')"
   ]
  },
  {
   "cell_type": "markdown",
   "metadata": {},
   "source": [
    "### 5)b.Quais as plantações com área total maior que 10 hectares?"
   ]
  },
  {
   "cell_type": "code",
   "execution_count": 32,
   "metadata": {},
   "outputs": [
    {
     "name": "stdout",
     "output_type": "stream",
     "text": [
      "Executando query:\n",
      "('milho', 70.0)\n",
      "('soja', 130.0)\n",
      "('café', 50.0)\n",
      "('algodão', 200.0)\n"
     ]
    }
   ],
   "source": [
    "# AAAAAAAAAAAAAAAAAAAAAAAAAAAAAAAAAAAAAAA OI CIAO FERRARI BAD LEGREG MONACO RENEWED ALONSO EL PLAN DESTROYED ASTON STROLL MONEY LATIFI GOATIFI HAMILTON #BLESSED ABU DHABI \"NO MICHAEL NO THIS IS SO NOT RIGHT\" ~BREAKS HEADPHONES ~\n",
    "\n",
    "db('''\n",
    "SELECT\n",
    "    plantacao.nome, SUM(area) as tamanho\n",
    "FROM \n",
    "    plantacao\n",
    "    INNER JOIN lote USING(id_plantacao)\n",
    "GROUP BY\n",
    "    lote.id_plantacao\n",
    "HAVING\n",
    "    tamanho > 10\n",
    "''')"
   ]
  },
  {
   "cell_type": "markdown",
   "metadata": {},
   "source": [
    "### 5)c. Qual o custo total atual com inseticidas?"
   ]
  },
  {
   "cell_type": "code",
   "execution_count": 33,
   "metadata": {},
   "outputs": [
    {
     "name": "stdout",
     "output_type": "stream",
     "text": [
      "Executando query:\n",
      "(120000.0,)\n"
     ]
    }
   ],
   "source": [
    "db('''\n",
    "SELECT\n",
    "    SUM(preco * frequencia * area)\n",
    "FROM \n",
    "    lote\n",
    "    INNER JOIN inseticida USING(id_inseticida)\n",
    "    INNER JOIN plantacao_inseticida USING(id_inseticida, id_plantacao)\n",
    "''')"
   ]
  },
  {
   "cell_type": "markdown",
   "metadata": {},
   "source": [
    "### 5)d.Quais inseticidas não foram usados?"
   ]
  },
  {
   "cell_type": "code",
   "execution_count": 27,
   "metadata": {},
   "outputs": [
    {
     "name": "stdout",
     "output_type": "stream",
     "text": [
      "Executando query:\n"
     ]
    }
   ],
   "source": [
    "db('''\n",
    "INSERT INTO inseticida (id_inseticida, nome, preco) VALUES (4, \"Agrotop\", 600), (5, \"Lívia\", 1000)\n",
    "''')"
   ]
  },
  {
   "cell_type": "code",
   "execution_count": 28,
   "metadata": {},
   "outputs": [
    {
     "name": "stdout",
     "output_type": "stream",
     "text": [
      "Executando query:\n",
      "(1, 'Mata-Tudo', Decimal('200.00'))\n",
      "(2, 'Mae-Terra', Decimal('500.00'))\n",
      "(3, 'Carinho', Decimal('700.00'))\n",
      "(4, 'Agrotop', Decimal('600.00'))\n",
      "(5, 'Lívia', Decimal('1000.00'))\n"
     ]
    }
   ],
   "source": [
    "db('''\n",
    "SELECT \n",
    "    *\n",
    "FROM inseticida\n",
    "''')"
   ]
  },
  {
   "cell_type": "code",
   "execution_count": 29,
   "metadata": {},
   "outputs": [
    {
     "name": "stdout",
     "output_type": "stream",
     "text": [
      "Executando query:\n",
      "(1, 'Mata-Tudo', None)\n",
      "(2, 'Mae-Terra', 2)\n",
      "(2, 'Mae-Terra', 5)\n",
      "(2, 'Mae-Terra', 6)\n",
      "(3, 'Carinho', 1)\n",
      "(4, 'Agrotop', None)\n",
      "(5, 'Lívia', None)\n"
     ]
    }
   ],
   "source": [
    "db('''\n",
    "SELECT\n",
    "    id_inseticida, inseticida.nome, id_lote\n",
    "FROM \n",
    "    inseticida\n",
    "    LEFT OUTER JOIN lote USING(id_inseticida)\n",
    "\n",
    "''')"
   ]
  },
  {
   "cell_type": "code",
   "execution_count": 31,
   "metadata": {},
   "outputs": [
    {
     "name": "stdout",
     "output_type": "stream",
     "text": [
      "Executando query:\n",
      "(1, 'Mata-Tudo', None)\n",
      "(4, 'Agrotop', None)\n",
      "(5, 'Lívia', None)\n"
     ]
    }
   ],
   "source": [
    "db('''\n",
    "SELECT\n",
    "    id_inseticida, inseticida.nome, id_lote\n",
    "FROM \n",
    "    inseticida\n",
    "    LEFT OUTER JOIN lote USING(id_inseticida)\n",
    "WHERE \n",
    "    id_lote IS NULL\n",
    "''')"
   ]
  },
  {
   "cell_type": "code",
   "execution_count": null,
   "metadata": {},
   "outputs": [],
   "source": []
  }
 ],
 "metadata": {
  "kernelspec": {
   "display_name": "Python 3",
   "language": "python",
   "name": "python3"
  },
  "language_info": {
   "codemirror_mode": {
    "name": "ipython",
    "version": 3
   },
   "file_extension": ".py",
   "mimetype": "text/x-python",
   "name": "python",
   "nbconvert_exporter": "python",
   "pygments_lexer": "ipython3",
   "version": "3.8.5"
  }
 },
 "nbformat": 4,
 "nbformat_minor": 4
}
