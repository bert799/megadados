{
 "cells": [
  {
   "cell_type": "markdown",
   "metadata": {},
   "source": [
    "# Mais sobre `SELECT`\n",
    "\n",
    "- temporary tables\n",
    "- views\n",
    "- variables\n",
    "- subqueries\n"
   ]
  },
  {
   "cell_type": "code",
   "execution_count": 1,
   "metadata": {},
   "outputs": [],
   "source": [
    "import mysql.connector\n",
    "from functools import partial\n",
    "\n",
    "\n",
    "def get_connection_helper():\n",
    "\n",
    "    def run_db_query(connection, query, args=None):\n",
    "        with connection.cursor() as cursor:\n",
    "            print('Executando query:')\n",
    "            cursor.execute(query, args)\n",
    "            for result in cursor:\n",
    "                print(result)\n",
    "\n",
    "    connection = mysql.connector.connect(\n",
    "        host='localhost',\n",
    "        user='megadados',\n",
    "        password='megadados',\n",
    "        database='sakila',\n",
    "    )\n",
    "    return connection, partial(run_db_query, connection)\n",
    "\n",
    "\n",
    "connection, db = get_connection_helper()"
   ]
  },
  {
   "cell_type": "markdown",
   "metadata": {},
   "source": [
    "## Aquecimento"
   ]
  },
  {
   "cell_type": "markdown",
   "metadata": {},
   "source": [
    "Quanta receita foi gerada para cada categoria de filmes? Liste do maior para o menor."
   ]
  },
  {
   "cell_type": "code",
   "execution_count": null,
   "metadata": {},
   "outputs": [],
   "source": [
    "#Temos que ver quantas vezes recebi o pagamento daquele filme\n",
    "# Toda vez que agrupo, agrego (SUM ou whereverrrrr)\n",
    "db('''\n",
    "SELECT \n",
    "    name, SUM(amount) as receita\n",
    "FROM\n",
    "    payment\n",
    "    INNER JOIN rental USING (customer_id)\n",
    "    INNER JOIN inventory USING (inventory_id)\n",
    "    INNER JOIN film_category USING (film_id)\n",
    "    INNER JOIN category USING (category_id)\n",
    "GROUP BY\n",
    "    category_id\n",
    "ORDER BY\n",
    "    receita DESC\n",
    "\n",
    "''')"
   ]
  },
  {
   "cell_type": "markdown",
   "metadata": {},
   "source": [
    "Liste os filmes e o numero de vezes em que foram alugados"
   ]
  },
  {
   "cell_type": "code",
   "execution_count": null,
   "metadata": {},
   "outputs": [],
   "source": [
    "#Depois de fazer essa filtragem vou ter uma tabela com os filmes repetidos e o seu id. Aí tenho que agrupar pelo mesmo nome\n",
    "# e depois que agrupo, agrego com o COUNT.\n",
    "\n",
    "db('''\n",
    "SELECT \n",
    "    title, COUNT(rental_id) as vezes_alugados\n",
    "FROM\n",
    "    film\n",
    "    INNER JOIN inventory USING (film_id)\n",
    "    INNER JOIN rental USING (inventory_id)\n",
    "GROUP BY\n",
    "    film_id\n",
    "ORDER BY\n",
    "    vezes_alugados DESC\n",
    "''')"
   ]
  },
  {
   "cell_type": "markdown",
   "metadata": {},
   "source": [
    "Liste os filmes e o numero de vezes em que foram alugados apenas para filmes que foram alugados mais do que a média de numero de alugueis por filme."
   ]
  },
  {
   "cell_type": "code",
   "execution_count": 4,
   "metadata": {},
   "outputs": [
    {
     "name": "stdout",
     "output_type": "stream",
     "text": [
      "Executando query:\n",
      "Executando query:\n",
      "Executando query:\n",
      "Executando query:\n",
      "(Decimal('16.044000000'),)\n"
     ]
    }
   ],
   "source": [
    "db('''\n",
    "SELECT\n",
    "    COUNT(film_id) INTO @cnt_film\n",
    "FROM\n",
    "    film\n",
    "''')\n",
    "db('''\n",
    "SELECT\n",
    "    COUNT(rental_id) INTO @cnt_rental\n",
    "FROM \n",
    "    rental\n",
    "''')\n",
    "db('''\n",
    "SELECT\n",
    "    @cnt_rental/@cnt_film INTO @avg_rental_per_film\n",
    "''')\n",
    "db('''\n",
    "SELECT\n",
    "    @avg_rental_per_film\n",
    "''')"
   ]
  },
  {
   "cell_type": "code",
   "execution_count": 6,
   "metadata": {},
   "outputs": [
    {
     "name": "stdout",
     "output_type": "stream",
     "text": [
      "Executando query:\n",
      "('BEACH HEARTBREAKERS', 17)\n",
      "('BIKINI BORROWERS', 17)\n",
      "('BREAKFAST GOLDFINGER', 17)\n",
      "('COMFORTS RUSH', 17)\n",
      "('CONFUSED CANDLES', 17)\n",
      "('CONVERSATION DOWNHILL', 17)\n",
      "('DYING MAKER', 17)\n",
      "('EGYPT TENENBAUMS', 17)\n",
      "('FACTORY DRAGON', 17)\n",
      "('FERRIS MOTHER', 17)\n",
      "('FLINTSTONES HAPPINESS', 17)\n",
      "('FREAKY POCUS', 17)\n",
      "('FRENCH HOLIDAY', 17)\n",
      "('GANDHI KWAI', 17)\n",
      "('GREEK EVERYONE', 17)\n",
      "('HANOVER GALAXY', 17)\n",
      "('HOLOCAUST HIGHBALL', 17)\n",
      "('IDAHO LOVE', 17)\n",
      "('INTENTIONS EMPIRE', 17)\n",
      "('JEKYLL FROGMEN', 17)\n",
      "('JERICHO MULAN', 17)\n",
      "('JOON NORTHWEST', 17)\n",
      "('LADY STAGE', 17)\n",
      "('LAWLESS VISION', 17)\n",
      "('LEAGUE HELLFIGHTERS', 17)\n",
      "('LOUISIANA HARRY', 17)\n",
      "('MAJESTIC FLOATS', 17)\n",
      "('MASK PEACH', 17)\n",
      "('MIDNIGHT WESTWARD', 17)\n",
      "('MUSKETEERS WAIT', 17)\n",
      "('NEWTON LABYRINTH', 17)\n",
      "('NOON PAPI', 17)\n",
      "('ORIENT CLOSER', 17)\n",
      "('PERFECT GROOVE', 17)\n",
      "('POSEIDON FOREVER', 17)\n",
      "('POTTER CONNECTICUT', 17)\n",
      "('REAR TRADING', 17)\n",
      "('ROCK INSTINCT', 17)\n",
      "('ROOTS REMEMBER', 17)\n",
      "('SATISFACTION CONFIDENTIAL', 17)\n",
      "('SLACKER LIAISONS', 17)\n",
      "('STRANGERS GRAFFITI', 17)\n",
      "('SUGAR WONKA', 17)\n",
      "('TAXI KICK', 17)\n",
      "('TEEN APOLLO', 17)\n",
      "('UNITED PILOT', 17)\n",
      "('VIRGIN DAISY', 17)\n",
      "('WATERFRONT DELIVERANCE', 17)\n",
      "('ZOOLANDER FICTION', 17)\n",
      "('AIRPORT POLLOCK', 18)\n",
      "('ALONE TRIP', 18)\n",
      "('BAREFOOT MANCHURIAN', 18)\n",
      "('BIRDS PERDITION', 18)\n",
      "('BOULEVARD MOB', 18)\n",
      "('CANDIDATE PERDITION', 18)\n",
      "('CAROL TEXAS', 18)\n",
      "('CLEOPATRA DEVIL', 18)\n",
      "('CORE SUIT', 18)\n",
      "('DARN FORRESTER', 18)\n",
      "('DAWN POND', 18)\n",
      "('DRAGONFLY STRANGERS', 18)\n",
      "('DRIVER ANNIE', 18)\n",
      "('ENOUGH RAGING', 18)\n",
      "('EXPECATIONS NATURAL', 18)\n",
      "('FORREST SONS', 18)\n",
      "('GALAXY SWEETHEARTS', 18)\n",
      "('GROOVE FICTION', 18)\n",
      "('GROUNDHOG UNCUT', 18)\n",
      "('HEAVEN FREEDOM', 18)\n",
      "('HOPE TOOTSIE', 18)\n",
      "('INCH JET', 18)\n",
      "('INSECTS STONE', 18)\n",
      "('INSTINCT AIRPORT', 18)\n",
      "('JACKET FRISCO', 18)\n",
      "('JADE BUNCH', 18)\n",
      "('LION UNCUT', 18)\n",
      "('MISSION ZOOLANDER', 18)\n",
      "('PARADISE SABRINA', 18)\n",
      "('POLISH BROOKLYN', 18)\n",
      "('POLLOCK DELIVERANCE', 18)\n",
      "('RACER EGG', 18)\n",
      "('REMEMBER DIARY', 18)\n",
      "('ROUGE SQUAD', 18)\n",
      "('SCARFACE BANG', 18)\n",
      "('SECRETARY ROUGE', 18)\n",
      "('SMOKING BARBARELLA', 18)\n",
      "('SWEDEN SHINING', 18)\n",
      "('UNFORGIVEN ZOOLANDER', 18)\n",
      "('VANISHING ROCKY', 18)\n",
      "('WEEKEND PERSONAL', 18)\n",
      "('WHALE BIKINI', 18)\n",
      "('WONKA SEA', 18)\n",
      "('BACKLASH UNDEFEATED', 19)\n",
      "('BILL OTHERS', 19)\n",
      "('BRIDE INTRIGUE', 19)\n",
      "('CAMPUS REMEMBER', 19)\n",
      "('CANYON STOCK', 19)\n",
      "('CIDER DESIRE', 19)\n",
      "('CLONES PINOCCHIO', 19)\n",
      "('CLUB GRAFFITI', 19)\n",
      "('DESERT POSEIDON', 19)\n",
      "('DETAILS PACKER', 19)\n",
      "('DISCIPLE MOTHER', 19)\n",
      "('DOORS PRESIDENT', 19)\n",
      "('EARRING INSTINCT', 19)\n",
      "('ENCINO ELF', 19)\n",
      "('ENCOUNTERS CURTAIN', 19)\n",
      "('EYES DRIVING', 19)\n",
      "('FANTASIA PARK', 19)\n",
      "('FICTION CHRISTMAS', 19)\n",
      "('FURY MURDER', 19)\n",
      "('GABLES METROPOLIS', 19)\n",
      "('GORGEOUS BINGO', 19)\n",
      "('HANGING DEEP', 19)\n",
      "('HONEY TIES', 19)\n",
      "('HOURS RAGE', 19)\n",
      "('IGBY MAKER', 19)\n",
      "('INDEPENDENCE HOTEL', 19)\n",
      "('JEDI BENEATH', 19)\n",
      "('MARS ROMAN', 19)\n",
      "('MINE TITANS', 19)\n",
      "('MUSIC BOONDOCK', 19)\n",
      "('NATIONAL STORY', 19)\n",
      "('NEIGHBORS CHARADE', 19)\n",
      "('NOVOCAINE FLIGHT', 19)\n",
      "('PATIENT SISTER', 19)\n",
      "('POND SEATTLE', 19)\n",
      "('RAGE GAMES', 19)\n",
      "('REQUIEM TYCOON', 19)\n",
      "('ROAD ROXANNE', 19)\n",
      "('ROXANNE REBEL', 19)\n",
      "('SHAWSHANK BUBBLE', 19)\n",
      "('SOMETHING DUCK', 19)\n",
      "('SUNDANCE INVASION', 19)\n",
      "('THIEF PELICAN', 19)\n",
      "('TROJAN TOMORROW', 19)\n",
      "('VOICE PEACH', 19)\n",
      "('BRINGING HYSTERICAL', 20)\n",
      "('CHASING FIGHT', 20)\n",
      "('CHEAPER CLYDE', 20)\n",
      "('CHOCOLAT HARRY', 20)\n",
      "('DALMATIONS SWEDEN', 20)\n",
      "('DINOSAUR SECRETARY', 20)\n",
      "('FLYING HOOK', 20)\n",
      "('GARDEN ISLAND', 20)\n",
      "('GO PURPLE', 20)\n",
      "('HARPER DYING', 20)\n",
      "('HEARTBREAKERS BRIGHT', 20)\n",
      "('HELLFIGHTERS SIERRA', 20)\n",
      "('HUNCHBACK IMPOSSIBLE', 20)\n",
      "('INSIDER ARIZONA', 20)\n",
      "('INTERVIEW LIAISONS', 20)\n",
      "('INTRIGUE WORST', 20)\n",
      "('JERK PAYCHECK', 20)\n",
      "('JET NEIGHBORS', 20)\n",
      "('KICK SAVANNAH', 20)\n",
      "('KISSING DOLLS', 20)\n",
      "('LOVE SUICIDES', 20)\n",
      "('MASKED BUBBLE', 20)\n",
      "('MILLION ACE', 20)\n",
      "('MINDS TRUMAN', 20)\n",
      "('MONEY HAROLD', 20)\n",
      "('NORTHWEST POLISH', 20)\n",
      "('OUTFIELD MASSACRE', 20)\n",
      "('PEAK FOREVER', 20)\n",
      "('PINOCCHIO SIMON', 20)\n",
      "('PREJUDICE OLEANDER', 20)\n",
      "('QUEST MUSSOLINI', 20)\n",
      "('REDEMPTION COMFORTS', 20)\n",
      "('REIGN GENTLEMEN', 20)\n",
      "('REUNION WITCHES', 20)\n",
      "('RIVER OUTLAW', 20)\n",
      "('ROOM ROMAN', 20)\n",
      "('SECRETS PARADISE', 20)\n",
      "('SLEEPLESS MONSOON', 20)\n",
      "('SPICE SORORITY', 20)\n",
      "('STEPMOM DREAM', 20)\n",
      "('STRAIGHT HOURS', 20)\n",
      "('TRAMP OTHERS', 20)\n",
      "('WRONG BEHAVIOR', 20)\n",
      "('AGENT TRUMAN', 21)\n",
      "('AMADEUS HOLY', 21)\n",
      "('AMISTAD MIDSUMMER', 21)\n",
      "('ANACONDA CONFESSIONS', 21)\n",
      "('ARIZONA BANG', 21)\n",
      "('ARMAGEDDON LOST', 21)\n",
      "('BADMAN DAWN', 21)\n",
      "('BASIC EASY', 21)\n",
      "('BERETS AGENT', 21)\n",
      "('BEVERLY OUTLAW', 21)\n",
      "('BLUES INSTINCT', 21)\n",
      "('BROOKLYN DESERT', 21)\n",
      "('CALENDAR GUNFIGHT', 21)\n",
      "('CAUSE DATE', 21)\n",
      "('CHAINSAW UPTOWN', 21)\n",
      "('CHARIOTS CONSPIRACY', 21)\n",
      "('CHRISTMAS MOONSHINE', 21)\n",
      "('COAST RAINBOW', 21)\n",
      "('CROSSROADS CASUALTIES', 21)\n",
      "('DECEIVER BETRAYED', 21)\n",
      "('DIVIDE MONSTER', 21)\n",
      "('DOOM DANCING', 21)\n",
      "('DRACULA CRYSTAL', 21)\n",
      "('DRIVING POLISH', 21)\n",
      "('EGG IGBY', 21)\n",
      "('EMPIRE MALKOVICH', 21)\n",
      "('EXCITEMENT EVE', 21)\n",
      "('FIDELITY DEVIL', 21)\n",
      "('FIREBALL PHILADELPHIA', 21)\n",
      "('GHOST GROUNDHOG', 21)\n",
      "('GREASE YOUTH', 21)\n",
      "('HIGHBALL POTTER', 21)\n",
      "('LEBOWSKI SOLDIERS', 21)\n",
      "('MOONSHINE CABIN', 21)\n",
      "('MOURNING PURPLE', 21)\n",
      "('OPEN AFRICAN', 21)\n",
      "('PIANIST OUTFIELD', 21)\n",
      "('PIRATES ROXANNE', 21)\n",
      "('RESURRECTION SILVERADO', 21)\n",
      "('SABRINA MIDNIGHT', 21)\n",
      "('SECRET GROUNDHOG', 21)\n",
      "('SLEEPY JAPANESE', 21)\n",
      "('SLEUTH ORIENT', 21)\n",
      "('SPLENDOR PATTON', 21)\n",
      "('STAR OPERATION', 21)\n",
      "('STING PERSONAL', 21)\n",
      "('SUIT WALLS', 21)\n",
      "('UNBREAKABLE KARATE', 21)\n",
      "('UNDEFEATED DALMATIONS', 21)\n",
      "('VACATION BOONDOCK', 21)\n",
      "('WAIT CIDER', 21)\n",
      "('WOLVES DESIRE', 21)\n",
      "('ALIEN CENTER', 22)\n",
      "('ALTER VICTORY', 22)\n",
      "('AMERICAN CIRCUS', 22)\n",
      "('ANGELS LIFE', 22)\n",
      "('ANNIE IDENTITY', 22)\n",
      "('BANGER PINOCCHIO', 22)\n",
      "('BEAR GRACELAND', 22)\n",
      "('BEAUTY GREASE', 22)\n",
      "('BLADE POLISH', 22)\n",
      "('BORROWERS BEDAZZLED', 22)\n",
      "('CHICKEN HELLFIGHTERS', 22)\n",
      "('CHILL LUCK', 22)\n",
      "('CONGENIALITY QUEST', 22)\n",
      "('DREAM PICKUP', 22)\n",
      "('EAGLES PANKY', 22)\n",
      "('FALCON VOLUME', 22)\n",
      "('FIGHT JAWBREAKER', 22)\n",
      "('FLATLINERS KILLER', 22)\n",
      "('GRAPES FURY', 22)\n",
      "('HAUNTING PIANIST', 22)\n",
      "('HEAD STRANGER', 22)\n",
      "('HIGH ENCINO', 22)\n",
      "('HOMICIDE PEACH', 22)\n",
      "('HUSTLER PARTY', 22)\n",
      "('KISS GLORY', 22)\n",
      "('LIAISONS SWEET', 22)\n",
      "('MALTESE HOPE', 22)\n",
      "('MIDSUMMER GROUNDHOG', 22)\n",
      "('PACKER MADIGAN', 22)\n",
      "('QUEEN LUKE', 22)\n",
      "('SEA VIRGIN', 22)\n",
      "('SHAKESPEARE SADDLE', 22)\n",
      "('SINNERS ATLANTIS', 22)\n",
      "('SNATCH SLIPPER', 22)\n",
      "('SOUTH WAIT', 22)\n",
      "('TOURIST PELICAN', 22)\n",
      "('VOLCANO TEXAS', 22)\n",
      "('WHISPERER GIANT', 22)\n",
      "('WONDERLAND CHRISTMAS', 22)\n",
      "('ACADEMY DINOSAUR', 23)\n",
      "('AFFAIR PREJUDICE', 23)\n",
      "('ALADDIN CALENDAR', 23)\n",
      "('BALLOON HOMEWARD', 23)\n",
      "('CANDLES GRAPES', 23)\n",
      "('CARRIE BUNCH', 23)\n",
      "('CROOKED FROGMEN', 23)\n",
      "('CUPBOARD SINNERS', 23)\n",
      "('EARTH VISION', 23)\n",
      "('EASY GLADIATOR', 23)\n",
      "('FLAMINGOS CONNECTICUT', 23)\n",
      "('FOOL MOCKINGBIRD', 23)\n",
      "('FREDDY STORM', 23)\n",
      "('GENTLEMEN STAGE', 23)\n",
      "('HEAVYWEIGHTS BEAST', 23)\n",
      "('HOUSE DYNAMITE', 23)\n",
      "('KARATE MOON', 23)\n",
      "('KWAI HOMEWARD', 23)\n",
      "('MURDER ANTITRUST', 23)\n",
      "('NAME DETECTIVE', 23)\n",
      "('OTHERS SOUP', 23)\n",
      "('OUTBREAK DIVINE', 23)\n",
      "('PATTON INTERVIEW', 23)\n",
      "('PHILADELPHIA WIFE', 23)\n",
      "('SALUTE APOLLO', 23)\n",
      "('SCORPION APOLLO', 23)\n",
      "('SNOWMAN ROLLERCOASTER', 23)\n",
      "('STEEL SANTA', 23)\n",
      "('STRICTLY SCARFACE', 23)\n",
      "('TITANIC BOONDOCK', 23)\n",
      "('TROUBLE DATE', 23)\n",
      "('TRUMAN CRAZY', 23)\n",
      "('WASH HEAVENLY', 23)\n",
      "('WIND PHANTOM', 23)\n",
      "('WOMEN DORADO', 23)\n",
      "('YENTL IDAHO', 23)\n",
      "('ALAMO VIDEOTAPE', 24)\n",
      "('ARACHNOPHOBIA ROLLERCOASTER', 24)\n",
      "('ATLANTIS CAUSE', 24)\n",
      "('ATTRACTION NEWTON', 24)\n",
      "('BOUND CHEAPER', 24)\n",
      "('CAPER MOTIONS', 24)\n",
      "('CELEBRITY HORN', 24)\n",
      "('CENTER DINOSAUR', 24)\n",
      "('COLOR PHILADELPHIA', 24)\n",
      "('DRIFTER COMMANDMENTS', 24)\n",
      "('FARGO GANDHI', 24)\n",
      "('GOLDFINGER SENSIBILITY', 24)\n",
      "('GUNFIGHT MOON', 24)\n",
      "('HORN WORKING', 24)\n",
      "('HURRICANE AFFAIR', 24)\n",
      "('ICE CROSSING', 24)\n",
      "('JASON TRAP', 24)\n",
      "('JUMPING WRATH', 24)\n",
      "('KNOCK WARLOCK', 24)\n",
      "('LOLA AGENT', 24)\n",
      "('MAIDEN HOME', 24)\n",
      "('MOCKINGBIRD HOLLYWOOD', 24)\n",
      "('ORANGE GRAPES', 24)\n",
      "('OZ LIAISONS', 24)\n",
      "('PACIFIC AMISTAD', 24)\n",
      "('ROMAN PUNK', 24)\n",
      "('SEATTLE EXPECATIONS', 24)\n",
      "('SHOOTIST SUPERFLY', 24)\n",
      "('SLEEPING SUSPECTS', 24)\n",
      "('SLUMS DUCK', 24)\n",
      "('STRANGELOVE DESIRE', 24)\n",
      "('SUNRISE LEAGUE', 24)\n",
      "('WEDDING APOLLO', 24)\n",
      "('BARBARELLA STREETCAR', 25)\n",
      "('CLASH FREDDY', 25)\n",
      "('CLUELESS BUCKET', 25)\n",
      "('CONEHEADS SMOOCHY', 25)\n",
      "('DOUBLE WRATH', 25)\n",
      "('DOWNHILL ENOUGH', 25)\n",
      "('DYNAMITE TARZAN', 25)\n",
      "('EFFECT GLADIATOR', 25)\n",
      "('ESCAPE METROPOLIS', 25)\n",
      "('FEUD FROGMEN', 25)\n",
      "('FISH OPUS', 25)\n",
      "('GUN BONNIE', 25)\n",
      "('HILLS NEIGHBORS', 25)\n",
      "('MADNESS ATTACKS', 25)\n",
      "('MALLRATS UNITED', 25)\n",
      "('METAL ARMAGEDDON', 25)\n",
      "('NIGHTMARE CHILL', 25)\n",
      "('OSCAR GOLD', 25)\n",
      "('SAMURAI LION', 25)\n",
      "('SHEPHERD MIDSUMMER', 25)\n",
      "('SHOW LORD', 25)\n",
      "('STREETCAR INTENTIONS', 25)\n",
      "('SUN CONFESSIONS', 25)\n",
      "('TELEMARK HEARTBREAKERS', 25)\n",
      "('TOMORROW HUSTLER', 25)\n",
      "('TRADING PINOCCHIO', 25)\n",
      "('WORKING MICROCOSMOS', 25)\n",
      "('ALASKA PHANTOM', 26)\n",
      "('BROTHERHOOD BLANKET', 26)\n",
      "('COMA HEAD', 26)\n",
      "('CONTACT ANONYMOUS', 26)\n",
      "('DISTURBING SCARFACE', 26)\n",
      "('DURHAM PANKY', 26)\n",
      "('FANTASY TROOPERS', 26)\n",
      "('FELLOWSHIP AUTUMN', 26)\n",
      "('HALF OUTFIELD', 26)\n",
      "('HANKY OCTOBER', 26)\n",
      "('HYDE DOCTOR', 26)\n",
      "('INNOCENT USUAL', 26)\n",
      "('ISLAND EXORCIST', 26)\n",
      "('MALKOVICH PET', 26)\n",
      "('METROPOLIS COMA', 26)\n",
      "('PELICAN COMFORTS', 26)\n",
      "('PITY BOUND', 26)\n",
      "('POCUS PULP', 26)\n",
      "('SEABISCUIT PUNK', 26)\n",
      "('STAGECOACH ARMAGEDDON', 26)\n",
      "('TIGHTS DAWN', 26)\n",
      "('TRACY CIDER', 26)\n",
      "('VELVET TERMINATOR', 26)\n",
      "('WESTWARD SEABISCUIT', 26)\n",
      "('BLACKOUT PRIVATE', 27)\n",
      "('CAMELOT VACATION', 27)\n",
      "('CHANCE RESURRECTION', 27)\n",
      "('CURTAIN VIDEOTAPE', 27)\n",
      "('DANCING FEVER', 27)\n",
      "('DETECTIVE VISION', 27)\n",
      "('DORADO NOTTING', 27)\n",
      "('FORRESTER COMANCHEROS', 27)\n",
      "('GANGS PRIDE', 27)\n",
      "('GOLDMINE TYCOON', 27)\n",
      "('HORROR REIGN', 27)\n",
      "('INVASION CYCLONE', 27)\n",
      "('LIES TREATMENT', 27)\n",
      "('LOATHING LEGALLY', 27)\n",
      "('LOSE INCH', 27)\n",
      "('MOVIE SHAKESPEARE', 27)\n",
      "('NONE SPIKING', 27)\n",
      "('OPERATION OPERATION', 27)\n",
      "('PRIMARY GLASS', 27)\n",
      "('PRINCESS GIANT', 27)\n",
      "('RANGE MOONWALKER', 27)\n",
      "('SPY MILE', 27)\n",
      "('SWARM GOLD', 27)\n",
      "('TELEGRAPH VOYAGE', 27)\n",
      "('TORQUE BOUND', 27)\n",
      "('WARDROBE PHANTOM', 27)\n",
      "('CLOSER BANG', 28)\n",
      "('EXPENDABLE STALLION', 28)\n",
      "('FATAL HAUNTED', 28)\n",
      "('GIANT TROOPERS', 28)\n",
      "('GILMORE BOILED', 28)\n",
      "('HANDICAP BOONDOCK', 28)\n",
      "('ROSES TREASURE', 28)\n",
      "('SATURDAY LAMBS', 28)\n",
      "('STORY SIDE', 28)\n",
      "('TRIP NEWTON', 28)\n",
      "('VOYAGE LEGALLY', 28)\n",
      "('BINGO TALENTED', 29)\n",
      "('BOOGIE AMELIE', 29)\n",
      "('CONFIDENTIAL INTERVIEW', 29)\n",
      "('DEER VIRGINIAN', 29)\n",
      "('ENEMY ODDS', 29)\n",
      "('FAMILY SWEET', 29)\n",
      "('GLEAMING JAWBREAKER', 29)\n",
      "('GREATEST NORTH', 29)\n",
      "('MOON BUNCH', 29)\n",
      "('STORM HAPPINESS', 29)\n",
      "('SWEETHEARTS SUSPECTS', 29)\n",
      "('TALENTED HOMICIDE', 29)\n",
      "('TITANS JERK', 29)\n",
      "('VIDEOTAPE ARSENIC', 29)\n",
      "('VIRGINIAN PLUTO', 29)\n",
      "('BUTTERFLY CHOCOLAT', 30)\n",
      "('CAT CONEHEADS', 30)\n",
      "('DOGMA FAMILY', 30)\n",
      "('ENGLISH BULWORTH', 30)\n",
      "('FROST HEAD', 30)\n",
      "('GRAFFITI LOVE', 30)\n",
      "('HARRY IDAHO', 30)\n",
      "('IDOLS SNATCHERS', 30)\n",
      "('MARRIED GO', 30)\n",
      "('MASSACRE USUAL', 30)\n",
      "('MUSCLE BRIGHT', 30)\n",
      "('PULP BEVERLY', 30)\n",
      "('RUGRATS SHAKESPEARE', 30)\n",
      "('SHOCK CABIN', 30)\n",
      "('SUSPECTS QUILLS', 30)\n",
      "('WITCHES PANIC', 30)\n",
      "('APACHE DIVINE', 31)\n",
      "('GOODFELLAS SALUTE', 31)\n",
      "('HOBBIT ALIEN', 31)\n",
      "('NETWORK PEAK', 31)\n",
      "('ROBBERS JOON', 31)\n",
      "('RUSH GOODFELLAS', 31)\n",
      "('TIMBERLAND SKY', 31)\n",
      "('WIFE TURN', 31)\n",
      "('ZORRO ARK', 31)\n",
      "('FORWARD TEMPLE', 32)\n",
      "('GRIT CLOCKWORK', 32)\n",
      "('JUGGLER HARDLY', 32)\n",
      "('RIDGEMONT SUBMARINE', 32)\n",
      "('SCALAWAG DUCK', 32)\n",
      "('ROCKETEER MOTHER', 33)\n",
      "('BUCKET BROTHERHOOD', 34)\n"
     ]
    }
   ],
   "source": [
    "db('''\n",
    "SELECT \n",
    "    title, COUNT(rental_id) as vezes_alugados\n",
    "FROM\n",
    "    film\n",
    "    INNER JOIN inventory USING (film_id)\n",
    "    INNER JOIN rental USING (inventory_id)\n",
    "GROUP BY\n",
    "    film_id\n",
    "HAVING\n",
    "    vezes_alugados > @avg_rental_per_film\n",
    "ORDER BY\n",
    "    vezes_alugados ASC\n",
    "''')"
   ]
  },
  {
   "cell_type": "markdown",
   "metadata": {
    "tags": []
   },
   "source": [
    "## Views\n",
    "\n",
    "Uma *view* é uma tabela virtual, construida a partir de um comando `SELECT`. Por exemplo: execute o código a seguir."
   ]
  },
  {
   "cell_type": "code",
   "execution_count": 11,
   "metadata": {},
   "outputs": [
    {
     "name": "stdout",
     "output_type": "stream",
     "text": [
      "Executando query:\n",
      "Executando query:\n"
     ]
    }
   ],
   "source": [
    "db('''\n",
    "DROP VIEW IF EXISTS movie_count;\n",
    "''')\n",
    "\n",
    "db('''\n",
    "CREATE VIEW movie_count AS\n",
    "    SELECT \n",
    "        title, COUNT(rental_id) as cnt\n",
    "    FROM\n",
    "        film\n",
    "        LEFT OUTER JOIN inventory USING (film_id)\n",
    "        LEFT OUTER JOIN rental USING (inventory_id)\n",
    "    GROUP BY\n",
    "        film_id\n",
    "    ORDER BY\n",
    "        cnt ASC;\n",
    "''')"
   ]
  },
  {
   "cell_type": "markdown",
   "metadata": {},
   "source": [
    "Agora temos uma *view* chamada `movie_count`. Vamos verificar que ela funcionou, listando as 30 primeiras linhas:"
   ]
  },
  {
   "cell_type": "code",
   "execution_count": 12,
   "metadata": {},
   "outputs": [
    {
     "name": "stdout",
     "output_type": "stream",
     "text": [
      "Executando query:\n",
      "('ALICE FANTASIA', 0)\n",
      "('APOLLO TEEN', 0)\n",
      "('ARGONAUTS TOWN', 0)\n",
      "('ARK RIDGEMONT', 0)\n",
      "('ARSENIC INDEPENDENCE', 0)\n",
      "('BOONDOCK BALLROOM', 0)\n",
      "('BUTCH PANTHER', 0)\n",
      "('CATCH AMISTAD', 0)\n",
      "('CHINATOWN GLADIATOR', 0)\n",
      "('CHOCOLATE DUCK', 0)\n",
      "('COMMANDMENTS EXPRESS', 0)\n",
      "('CROSSING DIVORCE', 0)\n",
      "('CROWDS TELEMARK', 0)\n",
      "('CRYSTAL BREAKING', 0)\n",
      "('DAZED PUNK', 0)\n",
      "('DELIVERANCE MULHOLLAND', 0)\n",
      "('FIREHOUSE VIETNAM', 0)\n",
      "('FLOATS GARDEN', 0)\n",
      "('FRANKENSTEIN STRANGER', 0)\n",
      "('GLADIATOR WESTWARD', 0)\n",
      "('GUMP DATE', 0)\n",
      "('HATE HANDICAP', 0)\n",
      "('HOCUS FRIDA', 0)\n",
      "('KENTUCKIAN GIANT', 0)\n",
      "('KILL BROTHERHOOD', 0)\n",
      "('MUPPET MILE', 0)\n",
      "('ORDER BETRAYED', 0)\n",
      "('PEARL DESTINY', 0)\n",
      "('PERDITION FARGO', 0)\n",
      "('PSYCHO SHRUNK', 0)\n"
     ]
    }
   ],
   "source": [
    "db('''\n",
    "SELECT \n",
    "    *\n",
    "FROM\n",
    "    movie_count \n",
    "LIMIT \n",
    "    30\n",
    "''')"
   ]
  },
  {
   "cell_type": "code",
   "execution_count": null,
   "metadata": {},
   "outputs": [],
   "source": [
    "db('''\n",
    "SELECT \n",
    "    * \n",
    "FROM \n",
    "    movie_count \n",
    "ORDER BY\n",
    "    cnt DESC\n",
    "LIMIT 30\n",
    "''')"
   ]
  },
  {
   "cell_type": "markdown",
   "metadata": {},
   "source": [
    "Agora suponha que alteramos a tabela `film`, mudando o nome do filme \"DAZED PUNK\" para \"STONED PUNK\".\n",
    "\n",
    "**Atividade**: Do it."
   ]
  },
  {
   "cell_type": "code",
   "execution_count": 13,
   "metadata": {},
   "outputs": [
    {
     "name": "stdout",
     "output_type": "stream",
     "text": [
      "Executando query:\n"
     ]
    }
   ],
   "source": [
    "db('''\n",
    "UPDATE film SET title = \"STONED PUNK\" WHERE title = \"DAZED PUNK\"\n",
    "''')"
   ]
  },
  {
   "cell_type": "markdown",
   "metadata": {},
   "source": [
    "Verifique agora a nossa *view*:"
   ]
  },
  {
   "cell_type": "code",
   "execution_count": 15,
   "metadata": {},
   "outputs": [
    {
     "name": "stdout",
     "output_type": "stream",
     "text": [
      "Executando query:\n",
      "('ALICE FANTASIA', 0)\n",
      "('APOLLO TEEN', 0)\n",
      "('ARGONAUTS TOWN', 0)\n",
      "('ARK RIDGEMONT', 0)\n",
      "('ARSENIC INDEPENDENCE', 0)\n",
      "('BOONDOCK BALLROOM', 0)\n",
      "('BUTCH PANTHER', 0)\n",
      "('CATCH AMISTAD', 0)\n",
      "('CHINATOWN GLADIATOR', 0)\n",
      "('CHOCOLATE DUCK', 0)\n",
      "('COMMANDMENTS EXPRESS', 0)\n",
      "('CROSSING DIVORCE', 0)\n",
      "('CROWDS TELEMARK', 0)\n",
      "('CRYSTAL BREAKING', 0)\n",
      "('STONED PUNK', 0)\n",
      "('DELIVERANCE MULHOLLAND', 0)\n",
      "('FIREHOUSE VIETNAM', 0)\n",
      "('FLOATS GARDEN', 0)\n",
      "('FRANKENSTEIN STRANGER', 0)\n",
      "('GLADIATOR WESTWARD', 0)\n",
      "('GUMP DATE', 0)\n",
      "('HATE HANDICAP', 0)\n",
      "('HOCUS FRIDA', 0)\n",
      "('KENTUCKIAN GIANT', 0)\n",
      "('KILL BROTHERHOOD', 0)\n",
      "('MUPPET MILE', 0)\n",
      "('ORDER BETRAYED', 0)\n",
      "('PEARL DESTINY', 0)\n",
      "('PERDITION FARGO', 0)\n",
      "('PSYCHO SHRUNK', 0)\n"
     ]
    }
   ],
   "source": [
    "db('''\n",
    "SELECT\n",
    "    *\n",
    "FROM\n",
    "    movie_count\n",
    "LIMIT\n",
    "    30\n",
    "''')"
   ]
  },
  {
   "cell_type": "markdown",
   "metadata": {},
   "source": [
    "Como você pode ver, as views são tabelas virtuais que são automaticamente atualizadas quando as tabelas originais são modificadas."
   ]
  },
  {
   "cell_type": "code",
   "execution_count": 16,
   "metadata": {},
   "outputs": [],
   "source": [
    "connection.rollback()"
   ]
  },
  {
   "cell_type": "code",
   "execution_count": 17,
   "metadata": {},
   "outputs": [
    {
     "name": "stdout",
     "output_type": "stream",
     "text": [
      "Executando query:\n",
      "('ALICE FANTASIA', 0)\n",
      "('APOLLO TEEN', 0)\n",
      "('ARGONAUTS TOWN', 0)\n",
      "('ARK RIDGEMONT', 0)\n",
      "('ARSENIC INDEPENDENCE', 0)\n",
      "('BOONDOCK BALLROOM', 0)\n",
      "('BUTCH PANTHER', 0)\n",
      "('CATCH AMISTAD', 0)\n",
      "('CHINATOWN GLADIATOR', 0)\n",
      "('CHOCOLATE DUCK', 0)\n",
      "('COMMANDMENTS EXPRESS', 0)\n",
      "('CROSSING DIVORCE', 0)\n",
      "('CROWDS TELEMARK', 0)\n",
      "('CRYSTAL BREAKING', 0)\n",
      "('DAZED PUNK', 0)\n",
      "('DELIVERANCE MULHOLLAND', 0)\n",
      "('FIREHOUSE VIETNAM', 0)\n",
      "('FLOATS GARDEN', 0)\n",
      "('FRANKENSTEIN STRANGER', 0)\n",
      "('GLADIATOR WESTWARD', 0)\n",
      "('GUMP DATE', 0)\n",
      "('HATE HANDICAP', 0)\n",
      "('HOCUS FRIDA', 0)\n",
      "('KENTUCKIAN GIANT', 0)\n",
      "('KILL BROTHERHOOD', 0)\n",
      "('MUPPET MILE', 0)\n",
      "('ORDER BETRAYED', 0)\n",
      "('PEARL DESTINY', 0)\n",
      "('PERDITION FARGO', 0)\n",
      "('PSYCHO SHRUNK', 0)\n"
     ]
    }
   ],
   "source": [
    "db('''\n",
    "SELECT\n",
    "    *\n",
    "FROM\n",
    "    movie_count\n",
    "LIMIT\n",
    "    30\n",
    "''')"
   ]
  },
  {
   "cell_type": "markdown",
   "metadata": {},
   "source": [
    "### Vamos praticar"
   ]
  },
  {
   "cell_type": "markdown",
   "metadata": {},
   "source": [
    "Verifique quantas vezes o filme \"COWBOY DOOM\" foi alugado usando a view `movie_count`"
   ]
  },
  {
   "cell_type": "code",
   "execution_count": 19,
   "metadata": {},
   "outputs": [
    {
     "name": "stdout",
     "output_type": "stream",
     "text": [
      "Executando query:\n",
      "(7,)\n"
     ]
    }
   ],
   "source": [
    "db('''\n",
    "SELECT\n",
    "    cnt\n",
    "FROM\n",
    "    movie_count\n",
    "WHERE\n",
    "    title =  \"COWBOY DOOM\"\n",
    "''')"
   ]
  },
  {
   "cell_type": "markdown",
   "metadata": {},
   "source": [
    "Registre um aluguel do filme \"COWBOY DOOM\", feito pelo funcionario \"Jon Stephens\" na loja id=1 para o cliente \"JESSIE BANKS\", na data '2019-01-01', com data de retorno '2019-01-08'"
   ]
  },
  {
   "cell_type": "code",
   "execution_count": 20,
   "metadata": {},
   "outputs": [
    {
     "name": "stdout",
     "output_type": "stream",
     "text": [
      "Executando query:\n",
      "Executando query:\n",
      "(2,)\n"
     ]
    }
   ],
   "source": [
    "db('SELECT staff_id into @staff_id FROM staff WHERE first_name = \"Jon\" AND last_name = \"Stephens\"')\n",
    "db('SELECT @staff_id')"
   ]
  },
  {
   "cell_type": "code",
   "execution_count": 21,
   "metadata": {},
   "outputs": [
    {
     "name": "stdout",
     "output_type": "stream",
     "text": [
      "Executando query:\n",
      "Executando query:\n",
      "(215,)\n"
     ]
    }
   ],
   "source": [
    "db('''\n",
    "SELECT\n",
    "    customer_id into @customer_id\n",
    "FROM\n",
    "    customer\n",
    "WHERE\n",
    "    first_name = \"JESSIE\"\n",
    "    AND last_name = \"BANKS\"\n",
    "''')\n",
    "db('SELECT @customer_id')"
   ]
  },
  {
   "cell_type": "code",
   "execution_count": 22,
   "metadata": {},
   "outputs": [
    {
     "name": "stdout",
     "output_type": "stream",
     "text": [
      "Executando query:\n",
      "(845,)\n",
      "(846,)\n"
     ]
    }
   ],
   "source": [
    "db('''\n",
    "SELECT\n",
    "    inventory_id\n",
    "FROM\n",
    "    film\n",
    "    INNER JOIN inventory USING (film_id)\n",
    "WHERE\n",
    "    title = 'COWBOY DOOM'\n",
    "''')"
   ]
  },
  {
   "cell_type": "code",
   "execution_count": null,
   "metadata": {},
   "outputs": [],
   "source": [
    "db('''\n",
    "SELECT\n",
    "    *\n",
    "FROM\n",
    "    rental\n",
    "WHERE\n",
    "    inventory_id = 846\n",
    "    AND return_date IS NULL\n",
    "''')"
   ]
  },
  {
   "cell_type": "code",
   "execution_count": 23,
   "metadata": {},
   "outputs": [
    {
     "name": "stdout",
     "output_type": "stream",
     "text": [
      "Executando query:\n"
     ]
    }
   ],
   "source": [
    "db('''\n",
    "INSERT INTO rental (\n",
    "    rental_date, \n",
    "    inventory_id, \n",
    "    customer_id, \n",
    "    return_date, \n",
    "    staff_id\n",
    ")\n",
    "VALUES \n",
    "(\n",
    "    \"2019-01-01\",\n",
    "    845,\n",
    "    @customer_id,\n",
    "    \"2019-01-08\",\n",
    "    @staff_id\n",
    ")''')"
   ]
  },
  {
   "cell_type": "markdown",
   "metadata": {},
   "source": [
    "Verifique usando a view que a contagem de alugueis do filme subiu."
   ]
  },
  {
   "cell_type": "code",
   "execution_count": 26,
   "metadata": {},
   "outputs": [
    {
     "name": "stdout",
     "output_type": "stream",
     "text": [
      "Executando query:\n",
      "(7,)\n"
     ]
    }
   ],
   "source": [
    "db('SELECT cnt FROM movie_count WHERE title = \"COWBOY DOOM\"')"
   ]
  },
  {
   "cell_type": "markdown",
   "metadata": {},
   "source": [
    "Faça o *rollback* desta alteração, para não modificar a nossa querida base de dados *sakila*."
   ]
  },
  {
   "cell_type": "code",
   "execution_count": 25,
   "metadata": {},
   "outputs": [],
   "source": [
    "connection.rollback()"
   ]
  },
  {
   "cell_type": "markdown",
   "metadata": {},
   "source": [
    "## Tabelas temporárias"
   ]
  },
  {
   "cell_type": "markdown",
   "metadata": {},
   "source": [
    "Tabelas temporárias podem ser criadas para ajudar nas tarefas de manipulação de dados. Essas tabelas existem apenas pela duração da sessão. Para criar uma tabela temporária, basta adicionar a palavra-chave `TEMPORARY` no momento da criação.\n",
    "\n",
    "É comum criar tabelas temporárias à partir do resultado de comandos `SELECT`. Por exemplo, a seguinte query permite montar uma tabela temporária com os filmes que duram mais que 3 horas:"
   ]
  },
  {
   "cell_type": "code",
   "execution_count": 27,
   "metadata": {},
   "outputs": [
    {
     "name": "stdout",
     "output_type": "stream",
     "text": [
      "Executando query:\n"
     ]
    }
   ],
   "source": [
    "db('''\n",
    "CREATE TEMPORARY TABLE long_film \n",
    "    SELECT\n",
    "        *\n",
    "    FROM\n",
    "        film\n",
    "    WHERE\n",
    "        film.length > 180;\n",
    "''')"
   ]
  },
  {
   "cell_type": "markdown",
   "metadata": {},
   "source": [
    "Podemos verificar que a tabela `long_film` agora existe:"
   ]
  },
  {
   "cell_type": "code",
   "execution_count": 28,
   "metadata": {
    "scrolled": true,
    "tags": []
   },
   "outputs": [
    {
     "name": "stdout",
     "output_type": "stream",
     "text": [
      "Executando query:\n",
      "('film_id', 'smallint unsigned', 'NO', '', '0', 'NULL')\n",
      "('title', 'varchar(128)', 'NO', '', None, 'NULL')\n",
      "('description', 'text', 'YES', '', None, 'NULL')\n",
      "('release_year', 'year', 'YES', '', None, 'NULL')\n",
      "('language_id', 'tinyint unsigned', 'NO', '', None, 'NULL')\n",
      "('original_language_id', 'tinyint unsigned', 'YES', '', None, 'NULL')\n",
      "('rental_duration', 'tinyint unsigned', 'NO', '', '3', 'NULL')\n",
      "('rental_rate', 'decimal(4,2)', 'NO', '', '4.99', 'NULL')\n",
      "('length', 'smallint unsigned', 'YES', '', None, 'NULL')\n",
      "('replacement_cost', 'decimal(5,2)', 'NO', '', '19.99', 'NULL')\n",
      "('rating', \"enum('G','PG','PG-13','R','NC-17')\", 'YES', '', 'G', 'NULL')\n",
      "('special_features', \"set('Trailers','Commentaries','Deleted Scenes','Behind the Scenes')\", 'YES', '', None, 'NULL')\n",
      "('last_update', 'timestamp', 'NO', '', 'CURRENT_TIMESTAMP', 'on update CURRENT_TIMESTAMP')\n"
     ]
    }
   ],
   "source": [
    "db('DESCRIBE long_film')"
   ]
  },
  {
   "cell_type": "markdown",
   "metadata": {},
   "source": [
    "Muito embora ela não apareça na lista de tabelas: isso é um bug do MySQL. (https://dev.mysql.com/worklog/task/?id=648)"
   ]
  },
  {
   "cell_type": "code",
   "execution_count": 29,
   "metadata": {},
   "outputs": [
    {
     "name": "stdout",
     "output_type": "stream",
     "text": [
      "Executando query:\n",
      "('actor',)\n",
      "('actor_info',)\n",
      "('address',)\n",
      "('category',)\n",
      "('city',)\n",
      "('country',)\n",
      "('customer',)\n",
      "('customer_list',)\n",
      "('film',)\n",
      "('film_actor',)\n",
      "('film_category',)\n",
      "('film_list',)\n",
      "('film_text',)\n",
      "('inventory',)\n",
      "('language',)\n",
      "('movie_count',)\n",
      "('nicer_but_slower_film_list',)\n",
      "('payment',)\n",
      "('rental',)\n",
      "('sales_by_film_category',)\n",
      "('sales_by_store',)\n",
      "('staff',)\n",
      "('staff_list',)\n",
      "('store',)\n"
     ]
    }
   ],
   "source": [
    "db('SHOW TABLES')"
   ]
  },
  {
   "cell_type": "markdown",
   "metadata": {},
   "source": [
    "Vamos listar o conteudo desta tabela:"
   ]
  },
  {
   "cell_type": "code",
   "execution_count": 30,
   "metadata": {
    "tags": []
   },
   "outputs": [
    {
     "name": "stdout",
     "output_type": "stream",
     "text": [
      "Executando query:\n",
      "('ANALYZE HOOSIERS',)\n",
      "('BAKED CLEOPATRA',)\n",
      "('CATCH AMISTAD',)\n",
      "('CHICAGO NORTH',)\n",
      "('CONSPIRACY SPIRIT',)\n",
      "('CONTROL ANTHEM',)\n",
      "('CRYSTAL BREAKING',)\n",
      "('DARN FORRESTER',)\n",
      "('FRONTIER CABIN',)\n",
      "('GANGS PRIDE',)\n",
      "('HAUNTING PIANIST',)\n",
      "('HOME PITY',)\n",
      "('HOTEL HAPPINESS',)\n",
      "('INTRIGUE WORST',)\n",
      "('JACKET FRISCO',)\n",
      "('KING EVOLUTION',)\n",
      "('LAWLESS VISION',)\n",
      "('LOVE SUICIDES',)\n",
      "('MONSOON CAUSE',)\n",
      "('MOONWALKER FOOL',)\n",
      "('MUSCLE BRIGHT',)\n",
      "('POND SEATTLE',)\n",
      "('RECORDS ZORRO',)\n",
      "('REDS POCUS',)\n",
      "('RUNAWAY TENENBAUMS',)\n",
      "('SATURN NAME',)\n",
      "('SCALAWAG DUCK',)\n",
      "('SEARCHERS WAIT',)\n",
      "('SMOOCHY CONTROL',)\n",
      "('SOLDIERS EVOLUTION',)\n",
      "('SONS INTERVIEW',)\n",
      "('SORORITY QUEEN',)\n",
      "('STAR OPERATION',)\n",
      "('SWEET BROTHERHOOD',)\n",
      "('THEORY MERMAID',)\n",
      "('WIFE TURN',)\n",
      "('WILD APOLLO',)\n",
      "('WORST BANGER',)\n",
      "('YOUNG LANGUAGE',)\n"
     ]
    }
   ],
   "source": [
    "db('SELECT title FROM long_film')"
   ]
  },
  {
   "cell_type": "markdown",
   "metadata": {},
   "source": [
    "Vamos apagar a tabela `long_film`:"
   ]
  },
  {
   "cell_type": "code",
   "execution_count": 35,
   "metadata": {},
   "outputs": [
    {
     "name": "stdout",
     "output_type": "stream",
     "text": [
      "Executando query:\n"
     ]
    },
    {
     "ename": "ProgrammingError",
     "evalue": "1051 (42S02): Unknown table 'sakila.long_film'",
     "output_type": "error",
     "traceback": [
      "\u001b[1;31m---------------------------------------------------------------------------\u001b[0m",
      "\u001b[1;31mMySQLInterfaceError\u001b[0m                       Traceback (most recent call last)",
      "\u001b[1;32m~\\anaconda3\\lib\\site-packages\\mysql\\connector\\connection_cext.py\u001b[0m in \u001b[0;36mcmd_query\u001b[1;34m(self, query, raw, buffered, raw_as_string)\u001b[0m\n\u001b[0;32m    554\u001b[0m                 \u001b[0mquery\u001b[0m \u001b[1;33m=\u001b[0m \u001b[0mquery\u001b[0m\u001b[1;33m.\u001b[0m\u001b[0mencode\u001b[0m\u001b[1;33m(\u001b[0m\u001b[1;34m\"utf-8\"\u001b[0m\u001b[1;33m)\u001b[0m\u001b[1;33m\u001b[0m\u001b[1;33m\u001b[0m\u001b[0m\n\u001b[1;32m--> 555\u001b[1;33m             self._cmysql.query(\n\u001b[0m\u001b[0;32m    556\u001b[0m                 \u001b[0mquery\u001b[0m\u001b[1;33m,\u001b[0m\u001b[1;33m\u001b[0m\u001b[1;33m\u001b[0m\u001b[0m\n",
      "\u001b[1;31mMySQLInterfaceError\u001b[0m: Unknown table 'sakila.long_film'",
      "\nThe above exception was the direct cause of the following exception:\n",
      "\u001b[1;31mProgrammingError\u001b[0m                          Traceback (most recent call last)",
      "\u001b[1;32m<ipython-input-35-23036b969335>\u001b[0m in \u001b[0;36m<module>\u001b[1;34m\u001b[0m\n\u001b[1;32m----> 1\u001b[1;33m \u001b[0mdb\u001b[0m\u001b[1;33m(\u001b[0m\u001b[1;34m'DROP TABLE long_film'\u001b[0m\u001b[1;33m)\u001b[0m\u001b[1;33m\u001b[0m\u001b[1;33m\u001b[0m\u001b[0m\n\u001b[0m",
      "\u001b[1;32m<ipython-input-1-f8cf815155f2>\u001b[0m in \u001b[0;36mrun_db_query\u001b[1;34m(connection, query, args)\u001b[0m\n\u001b[0;32m      8\u001b[0m         \u001b[1;32mwith\u001b[0m \u001b[0mconnection\u001b[0m\u001b[1;33m.\u001b[0m\u001b[0mcursor\u001b[0m\u001b[1;33m(\u001b[0m\u001b[1;33m)\u001b[0m \u001b[1;32mas\u001b[0m \u001b[0mcursor\u001b[0m\u001b[1;33m:\u001b[0m\u001b[1;33m\u001b[0m\u001b[1;33m\u001b[0m\u001b[0m\n\u001b[0;32m      9\u001b[0m             \u001b[0mprint\u001b[0m\u001b[1;33m(\u001b[0m\u001b[1;34m'Executando query:'\u001b[0m\u001b[1;33m)\u001b[0m\u001b[1;33m\u001b[0m\u001b[1;33m\u001b[0m\u001b[0m\n\u001b[1;32m---> 10\u001b[1;33m             \u001b[0mcursor\u001b[0m\u001b[1;33m.\u001b[0m\u001b[0mexecute\u001b[0m\u001b[1;33m(\u001b[0m\u001b[0mquery\u001b[0m\u001b[1;33m,\u001b[0m \u001b[0margs\u001b[0m\u001b[1;33m)\u001b[0m\u001b[1;33m\u001b[0m\u001b[1;33m\u001b[0m\u001b[0m\n\u001b[0m\u001b[0;32m     11\u001b[0m             \u001b[1;32mfor\u001b[0m \u001b[0mresult\u001b[0m \u001b[1;32min\u001b[0m \u001b[0mcursor\u001b[0m\u001b[1;33m:\u001b[0m\u001b[1;33m\u001b[0m\u001b[1;33m\u001b[0m\u001b[0m\n\u001b[0;32m     12\u001b[0m                 \u001b[0mprint\u001b[0m\u001b[1;33m(\u001b[0m\u001b[0mresult\u001b[0m\u001b[1;33m)\u001b[0m\u001b[1;33m\u001b[0m\u001b[1;33m\u001b[0m\u001b[0m\n",
      "\u001b[1;32m~\\anaconda3\\lib\\site-packages\\mysql\\connector\\cursor_cext.py\u001b[0m in \u001b[0;36mexecute\u001b[1;34m(self, operation, params, multi)\u001b[0m\n\u001b[0;32m    274\u001b[0m \u001b[1;33m\u001b[0m\u001b[0m\n\u001b[0;32m    275\u001b[0m         \u001b[1;32mtry\u001b[0m\u001b[1;33m:\u001b[0m\u001b[1;33m\u001b[0m\u001b[1;33m\u001b[0m\u001b[0m\n\u001b[1;32m--> 276\u001b[1;33m             result = self._cnx.cmd_query(\n\u001b[0m\u001b[0;32m    277\u001b[0m                 \u001b[0mstmt\u001b[0m\u001b[1;33m,\u001b[0m\u001b[1;33m\u001b[0m\u001b[1;33m\u001b[0m\u001b[0m\n\u001b[0;32m    278\u001b[0m                 \u001b[0mraw\u001b[0m\u001b[1;33m=\u001b[0m\u001b[0mself\u001b[0m\u001b[1;33m.\u001b[0m\u001b[0m_raw\u001b[0m\u001b[1;33m,\u001b[0m\u001b[1;33m\u001b[0m\u001b[1;33m\u001b[0m\u001b[0m\n",
      "\u001b[1;32m~\\anaconda3\\lib\\site-packages\\mysql\\connector\\connection_cext.py\u001b[0m in \u001b[0;36mcmd_query\u001b[1;34m(self, query, raw, buffered, raw_as_string)\u001b[0m\n\u001b[0;32m    561\u001b[0m             )\n\u001b[0;32m    562\u001b[0m         \u001b[1;32mexcept\u001b[0m \u001b[0mMySQLInterfaceError\u001b[0m \u001b[1;32mas\u001b[0m \u001b[0merr\u001b[0m\u001b[1;33m:\u001b[0m\u001b[1;33m\u001b[0m\u001b[1;33m\u001b[0m\u001b[0m\n\u001b[1;32m--> 563\u001b[1;33m             raise get_mysql_exception(\n\u001b[0m\u001b[0;32m    564\u001b[0m                 \u001b[0merr\u001b[0m\u001b[1;33m.\u001b[0m\u001b[0merrno\u001b[0m\u001b[1;33m,\u001b[0m \u001b[0mmsg\u001b[0m\u001b[1;33m=\u001b[0m\u001b[0merr\u001b[0m\u001b[1;33m.\u001b[0m\u001b[0mmsg\u001b[0m\u001b[1;33m,\u001b[0m \u001b[0msqlstate\u001b[0m\u001b[1;33m=\u001b[0m\u001b[0merr\u001b[0m\u001b[1;33m.\u001b[0m\u001b[0msqlstate\u001b[0m\u001b[1;33m\u001b[0m\u001b[1;33m\u001b[0m\u001b[0m\n\u001b[0;32m    565\u001b[0m             ) from err\n",
      "\u001b[1;31mProgrammingError\u001b[0m: 1051 (42S02): Unknown table 'sakila.long_film'"
     ]
    }
   ],
   "source": [
    "db('DROP TABLE long_film')"
   ]
  },
  {
   "cell_type": "markdown",
   "metadata": {},
   "source": [
    "### Vamos praticar"
   ]
  },
  {
   "cell_type": "markdown",
   "metadata": {},
   "source": [
    "- Crie uma tabela temporária `max_duration` que contém a duração máxima de filme para cada categoria"
   ]
  },
  {
   "cell_type": "code",
   "execution_count": 54,
   "metadata": {},
   "outputs": [
    {
     "name": "stdout",
     "output_type": "stream",
     "text": [
      "Executando query:\n",
      "Executando query:\n"
     ]
    }
   ],
   "source": [
    "db('''DROP TABLE IF EXISTS max_duration''')\n",
    "\n",
    "db('''\n",
    "CREATE TEMPORARY TABLE max_duration \n",
    "    SELECT\n",
    "        name, MAX(length) as max_length, category_id\n",
    "    FROM\n",
    "        film\n",
    "        INNER JOIN film_category USING (film_id)\n",
    "        INNER JOIN category USING (category_id)\n",
    "    GROUP BY\n",
    "        category_id\n",
    "''')"
   ]
  },
  {
   "cell_type": "markdown",
   "metadata": {},
   "source": [
    " - Verifique a tabela."
   ]
  },
  {
   "cell_type": "code",
   "execution_count": 55,
   "metadata": {},
   "outputs": [
    {
     "name": "stdout",
     "output_type": "stream",
     "text": [
      "Executando query:\n",
      "('Action', 185, 1)\n",
      "('Animation', 185, 2)\n",
      "('Children', 178, 3)\n",
      "('Classics', 184, 4)\n",
      "('Comedy', 185, 5)\n",
      "('Documentary', 183, 6)\n",
      "('Drama', 181, 7)\n",
      "('Family', 184, 8)\n",
      "('Foreign', 184, 9)\n",
      "('Games', 185, 10)\n",
      "('Horror', 181, 11)\n",
      "('Music', 185, 12)\n",
      "('New', 183, 13)\n",
      "('Sci-Fi', 185, 14)\n",
      "('Sports', 184, 15)\n",
      "('Travel', 185, 16)\n"
     ]
    }
   ],
   "source": [
    "db('''\n",
    "SELECT\n",
    "    *\n",
    "FROM\n",
    "    max_duration\n",
    "''')"
   ]
  },
  {
   "cell_type": "markdown",
   "metadata": {},
   "source": [
    "- Agora use a tabela temporária para construir uma tabela com as categorias e seus respectivos filmes mais longos:"
   ]
  },
  {
   "cell_type": "code",
   "execution_count": 56,
   "metadata": {},
   "outputs": [
    {
     "name": "stdout",
     "output_type": "stream",
     "text": [
      "Executando query:\n",
      "(185, 185, 'DARN FORRESTER', 'Action')\n",
      "(185, 185, 'WORST BANGER', 'Action')\n",
      "(185, 185, 'GANGS PRIDE', 'Animation')\n",
      "(185, 185, 'POND SEATTLE', 'Animation')\n",
      "(178, 178, 'FURY MURDER', 'Children')\n",
      "(178, 178, 'WRONG BEHAVIOR', 'Children')\n",
      "(184, 184, 'CONSPIRACY SPIRIT', 'Classics')\n",
      "(185, 185, 'CONTROL ANTHEM', 'Comedy')\n",
      "(183, 183, 'WIFE TURN', 'Documentary')\n",
      "(183, 183, 'YOUNG LANGUAGE', 'Documentary')\n",
      "(181, 181, 'JACKET FRISCO', 'Drama')\n",
      "(184, 184, 'KING EVOLUTION', 'Family')\n",
      "(184, 184, 'CRYSTAL BREAKING', 'Foreign')\n",
      "(184, 184, 'SORORITY QUEEN', 'Foreign')\n",
      "(185, 185, 'CHICAGO NORTH', 'Games')\n",
      "(181, 181, 'ANALYZE HOOSIERS', 'Horror')\n",
      "(181, 181, 'LOVE SUICIDES', 'Horror')\n",
      "(185, 185, 'HOME PITY', 'Music')\n",
      "(183, 183, 'FRONTIER CABIN', 'New')\n",
      "(185, 185, 'SOLDIERS EVOLUTION', 'Sci-Fi')\n",
      "(184, 184, 'SMOOCHY CONTROL', 'Sports')\n",
      "(185, 185, 'MUSCLE BRIGHT', 'Travel')\n",
      "(185, 185, 'SWEET BROTHERHOOD', 'Travel')\n"
     ]
    }
   ],
   "source": [
    "db('''\n",
    "SELECT\n",
    "    length, max_length, title, name\n",
    "FROM\n",
    "    film\n",
    "    INNER JOIN film_category USING (film_id)\n",
    "    INNER JOIN max_duration USING (category_id)\n",
    "WHERE\n",
    "    length = max_length\n",
    "''')"
   ]
  },
  {
   "cell_type": "markdown",
   "metadata": {},
   "source": [
    "- delete a tabela temporária"
   ]
  },
  {
   "cell_type": "code",
   "execution_count": 58,
   "metadata": {},
   "outputs": [
    {
     "name": "stdout",
     "output_type": "stream",
     "text": [
      "Executando query:\n"
     ]
    }
   ],
   "source": [
    "db('DROP TABLE max_duration')"
   ]
  },
  {
   "cell_type": "markdown",
   "metadata": {},
   "source": [
    "### Desafio!"
   ]
  },
  {
   "cell_type": "markdown",
   "metadata": {},
   "source": [
    "- Gere uma tabela contendo, para cada ator, a seguinte informação:\n",
    "\n",
    "| first_name | last_name | filmes por categoria |\n",
    "|--|--|--|\n",
    "| PENELOPE | GUINESS | Animation: ANACONDA CONFESSIONS; Children: LANGUAGE COWBOY; Classics: COLOR PHILADELPHIA, WESTWARD SEABISCUIT; Comedy: VERTIGO NORTHWEST; Documentary: ACADEMY DINOSAUR; Family: KING EVOLUTION, SPLASH GUMP; Foreign: MULHOLLAND BEAST; Games: BULWORTH COMMANDMENTS, HUMAN GRAFFITI; Horror: ELEPHANT TROJAN, LADY STAGE, RULES HUMAN; Music: WIZARD COLDBLOODED; New: ANGELS LIFE, OKLAHOMA JUMANJI; Sci-Fi: CHEAPER CLYDE; Sports: GLEAMING JAWBREAKER |\n",
    "| NICK | WAHLBERG | Action: BULL SHAWSHANK; Animation: FIGHT JAWBREAKER; Children: JERSEY SASSY; Classics: DRACULA CRYSTAL, GILBERT PELICAN; Comedy: MALLRATS UNITED, RUSHMORE MERMAID; Documentary: ADAPTATION HOLES; Drama: WARDROBE PHANTOM; Family: APACHE DIVINE, CHISUM BEHAVIOR, INDIAN LOVE, MAGUIRE APACHE; Foreign: BABY HALL, HAPPINESS UNITED; Games: ROOF CHAMPION; Music: LUCKY FLYING; New: DESTINY SATURDAY, FLASH WARS, JEKYLL FROGMEN, MASK PEACH; Sci-Fi: CHAINSAW UPTOWN, GOODFELLAS SALUTE; Travel: LIAISONS SWEET, SMILE EARRING |\n",
    "| etc | etc | etc |\n",
    "\n",
    "Dica: use `GROUP_CONCAT` para agrupar todas as strings de uma coluna em uma string só, e `CONCAT` para unir strings particulares."
   ]
  },
  {
   "cell_type": "code",
   "execution_count": 62,
   "metadata": {},
   "outputs": [
    {
     "name": "stdout",
     "output_type": "stream",
     "text": [
      "Executando query:\n",
      "Executando query:\n"
     ]
    }
   ],
   "source": [
    "db('''\n",
    "DROP TABLE IF EXISTS actor_category_films\n",
    "''')\n",
    "\n",
    "db('''\n",
    "CREATE TEMPORARY TABLE actor_category_films\n",
    "SELECT\n",
    "    first_name, last_name, CONCAT(name, \": \", GROUP_CONCAT(title SEPARATOR \", \"))\n",
    "FROM \n",
    "    actor\n",
    "    INNER JOIN film_actor USING(actor_id)\n",
    "    INNER JOIN film USING(film_id)\n",
    "    INNER JOIN film_category USING(film_id)\n",
    "    INNER JOIN category USING(category_id)\n",
    "    \n",
    "GROUP BY\n",
    "    actor_id, category_id\n",
    "''')"
   ]
  },
  {
   "cell_type": "code",
   "execution_count": 63,
   "metadata": {},
   "outputs": [
    {
     "name": "stdout",
     "output_type": "stream",
     "text": [
      "Executando query:\n",
      "('PENELOPE', 'GUINESS', 'Animation: ANACONDA CONFESSIONS')\n",
      "('PENELOPE', 'GUINESS', 'Children: LANGUAGE COWBOY')\n",
      "('PENELOPE', 'GUINESS', 'Classics: COLOR PHILADELPHIA, WESTWARD SEABISCUIT')\n",
      "('PENELOPE', 'GUINESS', 'Comedy: VERTIGO NORTHWEST')\n",
      "('PENELOPE', 'GUINESS', 'Documentary: ACADEMY DINOSAUR')\n",
      "('PENELOPE', 'GUINESS', 'Family: KING EVOLUTION, SPLASH GUMP')\n",
      "('PENELOPE', 'GUINESS', 'Foreign: MULHOLLAND BEAST')\n",
      "('PENELOPE', 'GUINESS', 'Games: BULWORTH COMMANDMENTS, HUMAN GRAFFITI')\n",
      "('PENELOPE', 'GUINESS', 'Horror: ELEPHANT TROJAN, LADY STAGE, RULES HUMAN')\n",
      "('PENELOPE', 'GUINESS', 'Music: WIZARD COLDBLOODED')\n"
     ]
    }
   ],
   "source": [
    "db('SELECT * FROM actor_category_films LIMIT 10')"
   ]
  },
  {
   "cell_type": "code",
   "execution_count": 64,
   "metadata": {},
   "outputs": [
    {
     "name": "stdout",
     "output_type": "stream",
     "text": [
      "Executando query:\n"
     ]
    },
    {
     "ename": "ProgrammingError",
     "evalue": "1054 (42S22): Unknown column 'films' in 'field list'",
     "output_type": "error",
     "traceback": [
      "\u001b[1;31m---------------------------------------------------------------------------\u001b[0m",
      "\u001b[1;31mMySQLInterfaceError\u001b[0m                       Traceback (most recent call last)",
      "\u001b[1;32m~\\anaconda3\\lib\\site-packages\\mysql\\connector\\connection_cext.py\u001b[0m in \u001b[0;36mcmd_query\u001b[1;34m(self, query, raw, buffered, raw_as_string)\u001b[0m\n\u001b[0;32m    554\u001b[0m                 \u001b[0mquery\u001b[0m \u001b[1;33m=\u001b[0m \u001b[0mquery\u001b[0m\u001b[1;33m.\u001b[0m\u001b[0mencode\u001b[0m\u001b[1;33m(\u001b[0m\u001b[1;34m\"utf-8\"\u001b[0m\u001b[1;33m)\u001b[0m\u001b[1;33m\u001b[0m\u001b[1;33m\u001b[0m\u001b[0m\n\u001b[1;32m--> 555\u001b[1;33m             self._cmysql.query(\n\u001b[0m\u001b[0;32m    556\u001b[0m                 \u001b[0mquery\u001b[0m\u001b[1;33m,\u001b[0m\u001b[1;33m\u001b[0m\u001b[1;33m\u001b[0m\u001b[0m\n",
      "\u001b[1;31mMySQLInterfaceError\u001b[0m: Unknown column 'films' in 'field list'",
      "\nThe above exception was the direct cause of the following exception:\n",
      "\u001b[1;31mProgrammingError\u001b[0m                          Traceback (most recent call last)",
      "\u001b[1;32m<ipython-input-64-0a10414108e8>\u001b[0m in \u001b[0;36m<module>\u001b[1;34m\u001b[0m\n\u001b[1;32m----> 1\u001b[1;33m db('''\n\u001b[0m\u001b[0;32m      2\u001b[0m \u001b[0mSELECT\u001b[0m\u001b[1;33m\u001b[0m\u001b[1;33m\u001b[0m\u001b[0m\n\u001b[0;32m      3\u001b[0m     \u001b[0mfirst_name\u001b[0m\u001b[1;33m,\u001b[0m \u001b[0mlast_name\u001b[0m\u001b[1;33m,\u001b[0m \u001b[0mGROUP_CONCAT\u001b[0m\u001b[1;33m(\u001b[0m\u001b[0mfilms\u001b[0m \u001b[0mSEPARATOR\u001b[0m \u001b[1;34m\"; \"\u001b[0m\u001b[1;33m)\u001b[0m \u001b[1;32mas\u001b[0m \u001b[0mtotal_films\u001b[0m\u001b[1;33m\u001b[0m\u001b[1;33m\u001b[0m\u001b[0m\n\u001b[0;32m      4\u001b[0m \u001b[0mFROM\u001b[0m\u001b[1;33m\u001b[0m\u001b[1;33m\u001b[0m\u001b[0m\n\u001b[0;32m      5\u001b[0m     \u001b[0mactor_category_films\u001b[0m\u001b[1;33m\u001b[0m\u001b[1;33m\u001b[0m\u001b[0m\n",
      "\u001b[1;32m<ipython-input-1-f8cf815155f2>\u001b[0m in \u001b[0;36mrun_db_query\u001b[1;34m(connection, query, args)\u001b[0m\n\u001b[0;32m      8\u001b[0m         \u001b[1;32mwith\u001b[0m \u001b[0mconnection\u001b[0m\u001b[1;33m.\u001b[0m\u001b[0mcursor\u001b[0m\u001b[1;33m(\u001b[0m\u001b[1;33m)\u001b[0m \u001b[1;32mas\u001b[0m \u001b[0mcursor\u001b[0m\u001b[1;33m:\u001b[0m\u001b[1;33m\u001b[0m\u001b[1;33m\u001b[0m\u001b[0m\n\u001b[0;32m      9\u001b[0m             \u001b[0mprint\u001b[0m\u001b[1;33m(\u001b[0m\u001b[1;34m'Executando query:'\u001b[0m\u001b[1;33m)\u001b[0m\u001b[1;33m\u001b[0m\u001b[1;33m\u001b[0m\u001b[0m\n\u001b[1;32m---> 10\u001b[1;33m             \u001b[0mcursor\u001b[0m\u001b[1;33m.\u001b[0m\u001b[0mexecute\u001b[0m\u001b[1;33m(\u001b[0m\u001b[0mquery\u001b[0m\u001b[1;33m,\u001b[0m \u001b[0margs\u001b[0m\u001b[1;33m)\u001b[0m\u001b[1;33m\u001b[0m\u001b[1;33m\u001b[0m\u001b[0m\n\u001b[0m\u001b[0;32m     11\u001b[0m             \u001b[1;32mfor\u001b[0m \u001b[0mresult\u001b[0m \u001b[1;32min\u001b[0m \u001b[0mcursor\u001b[0m\u001b[1;33m:\u001b[0m\u001b[1;33m\u001b[0m\u001b[1;33m\u001b[0m\u001b[0m\n\u001b[0;32m     12\u001b[0m                 \u001b[0mprint\u001b[0m\u001b[1;33m(\u001b[0m\u001b[0mresult\u001b[0m\u001b[1;33m)\u001b[0m\u001b[1;33m\u001b[0m\u001b[1;33m\u001b[0m\u001b[0m\n",
      "\u001b[1;32m~\\anaconda3\\lib\\site-packages\\mysql\\connector\\cursor_cext.py\u001b[0m in \u001b[0;36mexecute\u001b[1;34m(self, operation, params, multi)\u001b[0m\n\u001b[0;32m    274\u001b[0m \u001b[1;33m\u001b[0m\u001b[0m\n\u001b[0;32m    275\u001b[0m         \u001b[1;32mtry\u001b[0m\u001b[1;33m:\u001b[0m\u001b[1;33m\u001b[0m\u001b[1;33m\u001b[0m\u001b[0m\n\u001b[1;32m--> 276\u001b[1;33m             result = self._cnx.cmd_query(\n\u001b[0m\u001b[0;32m    277\u001b[0m                 \u001b[0mstmt\u001b[0m\u001b[1;33m,\u001b[0m\u001b[1;33m\u001b[0m\u001b[1;33m\u001b[0m\u001b[0m\n\u001b[0;32m    278\u001b[0m                 \u001b[0mraw\u001b[0m\u001b[1;33m=\u001b[0m\u001b[0mself\u001b[0m\u001b[1;33m.\u001b[0m\u001b[0m_raw\u001b[0m\u001b[1;33m,\u001b[0m\u001b[1;33m\u001b[0m\u001b[1;33m\u001b[0m\u001b[0m\n",
      "\u001b[1;32m~\\anaconda3\\lib\\site-packages\\mysql\\connector\\connection_cext.py\u001b[0m in \u001b[0;36mcmd_query\u001b[1;34m(self, query, raw, buffered, raw_as_string)\u001b[0m\n\u001b[0;32m    561\u001b[0m             )\n\u001b[0;32m    562\u001b[0m         \u001b[1;32mexcept\u001b[0m \u001b[0mMySQLInterfaceError\u001b[0m \u001b[1;32mas\u001b[0m \u001b[0merr\u001b[0m\u001b[1;33m:\u001b[0m\u001b[1;33m\u001b[0m\u001b[1;33m\u001b[0m\u001b[0m\n\u001b[1;32m--> 563\u001b[1;33m             raise get_mysql_exception(\n\u001b[0m\u001b[0;32m    564\u001b[0m                 \u001b[0merr\u001b[0m\u001b[1;33m.\u001b[0m\u001b[0merrno\u001b[0m\u001b[1;33m,\u001b[0m \u001b[0mmsg\u001b[0m\u001b[1;33m=\u001b[0m\u001b[0merr\u001b[0m\u001b[1;33m.\u001b[0m\u001b[0mmsg\u001b[0m\u001b[1;33m,\u001b[0m \u001b[0msqlstate\u001b[0m\u001b[1;33m=\u001b[0m\u001b[0merr\u001b[0m\u001b[1;33m.\u001b[0m\u001b[0msqlstate\u001b[0m\u001b[1;33m\u001b[0m\u001b[1;33m\u001b[0m\u001b[0m\n\u001b[0;32m    565\u001b[0m             ) from err\n",
      "\u001b[1;31mProgrammingError\u001b[0m: 1054 (42S22): Unknown column 'films' in 'field list'"
     ]
    }
   ],
   "source": [
    "db('''\n",
    "SELECT\n",
    "    first_name, last_name, GROUP_CONCAT(films SEPARATOR \"; \") as total_films\n",
    "FROM\n",
    "    actor_category_films\n",
    "GROUP BY\n",
    "    actor_id\n",
    "''')"
   ]
  },
  {
   "cell_type": "markdown",
   "metadata": {
    "tags": []
   },
   "source": [
    "## Variáveis\n",
    "\n",
    "Podemos montar uma query que retorne um valor só e armazenar este valor em uma variável, para uso posterior em outras queries. Para isso vamos usar o prefixo '@' para indicar variáveis, e o comando `SELECT ... INTO`.\n",
    "\n",
    "Exemplo: quais são os filmes \"caros\" da nossa base sakila? Vamos descobrir quais filmes custam mais que um desvio padrão acima da média de preços de locação.\n",
    "\n",
    "Primeiro vamos calcular a média e o desvio padrão dos preços de aluguel:"
   ]
  },
  {
   "cell_type": "code",
   "execution_count": null,
   "metadata": {},
   "outputs": [],
   "source": [
    "db('''\n",
    "SELECT \n",
    "    AVG(rental_rate), \n",
    "    STDDEV(rental_rate)\n",
    "INTO \n",
    "    @avg_rate, \n",
    "    @stddev_rate \n",
    "FROM\n",
    "    film;\n",
    "''')"
   ]
  },
  {
   "cell_type": "markdown",
   "metadata": {},
   "source": [
    "Note que a query não retorna um resultado: o resultado foi armazenado direto nas variáveis `@avg_rate` e `@stddev_rate`. Vamos usar um `SELECT` sem tabelas para ver o resultado:"
   ]
  },
  {
   "cell_type": "code",
   "execution_count": null,
   "metadata": {},
   "outputs": [],
   "source": [
    "db('SELECT @avg_rate, @stddev_rate')"
   ]
  },
  {
   "cell_type": "markdown",
   "metadata": {},
   "source": [
    "Agora podemos selecionar os filmes caros!"
   ]
  },
  {
   "cell_type": "code",
   "execution_count": null,
   "metadata": {
    "tags": []
   },
   "outputs": [],
   "source": [
    "db('''\n",
    "SELECT \n",
    "    title, rental_rate\n",
    "FROM\n",
    "    film\n",
    "WHERE\n",
    "    rental_rate > @avg_rate + @stddev_rate;\n",
    "''')"
   ]
  },
  {
   "cell_type": "markdown",
   "metadata": {},
   "source": [
    "### Vamos praticar"
   ]
  },
  {
   "cell_type": "markdown",
   "metadata": {},
   "source": [
    "Use variáveis temporárias para encontrar o ator que mais participou de filmes."
   ]
  },
  {
   "cell_type": "code",
   "execution_count": null,
   "metadata": {},
   "outputs": [],
   "source": []
  },
  {
   "cell_type": "markdown",
   "metadata": {},
   "source": [
    "## Operador `IN`"
   ]
  },
  {
   "cell_type": "markdown",
   "metadata": {},
   "source": [
    "Suponha que desejamos listar todos os filmes dos 3 atores mais populares. Podemos começar listando os 3 atores mais populares:"
   ]
  },
  {
   "cell_type": "code",
   "execution_count": null,
   "metadata": {},
   "outputs": [],
   "source": [
    "db('''\n",
    "SELECT \n",
    "    actor_id, first_name, last_name, COUNT(film_id) AS num_films\n",
    "FROM\n",
    "    actor\n",
    "    INNER JOIN film_actor USING (actor_id)\n",
    "GROUP BY \n",
    "    actor_id\n",
    "ORDER BY \n",
    "    num_films DESC\n",
    "LIMIT 3\n",
    "''')"
   ]
  },
  {
   "cell_type": "markdown",
   "metadata": {},
   "source": [
    "Vamos criar uma tabela temporária para guardar a informação de `actor_id` desses atores:"
   ]
  },
  {
   "cell_type": "code",
   "execution_count": null,
   "metadata": {},
   "outputs": [],
   "source": [
    "db('DROP TABLE IF EXISTS temp_pop_actors')\n",
    "db('''\n",
    "CREATE TEMPORARY TABLE temp_pop_actors\n",
    "    SELECT first_name, last_name, actor_id FROM\n",
    "        actor\n",
    "        INNER JOIN film_actor USING (actor_id)\n",
    "    GROUP BY \n",
    "        actor_id\n",
    "    ORDER BY \n",
    "        COUNT(film_id) DESC\n",
    "    LIMIT 3\n",
    "''')\n",
    "db('''\n",
    "SELECT * from temp_pop_actors\n",
    "''')"
   ]
  },
  {
   "cell_type": "markdown",
   "metadata": {},
   "source": [
    "Por fim, vamos usar essa informação para listar os filmes dos atores populares:"
   ]
  },
  {
   "cell_type": "code",
   "execution_count": null,
   "metadata": {},
   "outputs": [],
   "source": [
    "db('''\n",
    "SELECT DISTINCT\n",
    "    title\n",
    "FROM\n",
    "    film\n",
    "    INNER JOIN film_actor USING (film_id)\n",
    "WHERE\n",
    "    actor_id IN (SELECT actor_id FROM temp_pop_actors);\n",
    "''')"
   ]
  },
  {
   "cell_type": "markdown",
   "metadata": {},
   "source": [
    "Note o uso de *subqueries*!\n",
    "\n",
    "Não se esqueça de limpar tudo no final!"
   ]
  },
  {
   "cell_type": "code",
   "execution_count": null,
   "metadata": {},
   "outputs": [],
   "source": [
    "db('DROP TABLE temp_pop_actors')"
   ]
  },
  {
   "cell_type": "markdown",
   "metadata": {},
   "source": [
    "### Vamos praticar"
   ]
  },
  {
   "cell_type": "markdown",
   "metadata": {},
   "source": [
    "Liste os atores que participaram dos 3 filmes mais rentáveis (aqueles que mais geraram receita para a locadora)."
   ]
  },
  {
   "cell_type": "code",
   "execution_count": null,
   "metadata": {},
   "outputs": [],
   "source": []
  },
  {
   "cell_type": "markdown",
   "metadata": {},
   "source": [
    "## Subqueries"
   ]
  },
  {
   "cell_type": "markdown",
   "metadata": {},
   "source": [
    "Os tópicos discutidos acima poderiam ser resolvidos, em grande parte, com subqueries. As subqueries são queries `SELECT` criadas dentro de outras queries. \n",
    "\n",
    "Poderíamos ter usado subqueries nos mesmos lugares onde usamos tabelas temporárias, nos tópicos acima. Quando a subquery pode ser transformada em uma tabela temporária independente, separada da query exterior, dizemos que a subquery é **não-correlacionada** com a query exterior.\n",
    "\n",
    "Usar subqueries não-correlacionadas é um tópico controverso: podemos sempre usar uma tabela temporária ou, ás vezes, pensar em um `JOIN` simples. Aliás, muitas vezes o otimizador de queries do banco de dados transformará a subquery em `JOIN`, se isso for vantajoso em termos de desempenho.\n",
    "\n",
    "Uma subquery que depende da query externa (e portanto não pode ser separada em uma tabela temporária independente) é chamada de **subquery correlacionada**. Nestes casos podemos ter que executar a subquery para cada linha da query exterior! "
   ]
  },
  {
   "cell_type": "markdown",
   "metadata": {},
   "source": [
    "### Vamos praticar"
   ]
  },
  {
   "cell_type": "markdown",
   "metadata": {},
   "source": [
    "Vamos refazer a atividade dos filmes de atores populares, usando subqueries. \n",
    "\n",
    "Temos um problema: o MySQL não suporta ``LIMIT`` em subqueries com o operador ``IN``. Vamos investigar isso mais de perto. \n",
    "\n",
    "Em primeiro lugar faça uma tradução direta da implementação da atividade anterior trocando tabela temporária por subquery."
   ]
  },
  {
   "cell_type": "code",
   "execution_count": null,
   "metadata": {
    "scrolled": true
   },
   "outputs": [],
   "source": [
    "try:\n",
    "    db('''\n",
    "    SELECT \n",
    "        actor_id, first_name, last_name\n",
    "    FROM\n",
    "        actor\n",
    "        INNER JOIN film_actor USING (actor_id)\n",
    "    WHERE\n",
    "        film_actor.film_id IN (\n",
    "            SELECT \n",
    "                film_id\n",
    "            FROM\n",
    "                film\n",
    "                INNER JOIN inventory USING (film_id)\n",
    "                INNER JOIN rental USING (inventory_id)\n",
    "                INNER JOIN payment USING (rental_id)\n",
    "            WHERE\n",
    "                payment_date IS NOT NULL\n",
    "            GROUP BY \n",
    "                film_id\n",
    "            ORDER BY \n",
    "                SUM(amount)\n",
    "            LIMIT \n",
    "                3)\n",
    "    ORDER BY \n",
    "        actor_id\n",
    "    ''')\n",
    "except mysql.connector.ProgrammingError as e:\n",
    "    print(f'ProgrammingError: {e}')"
   ]
  },
  {
   "cell_type": "markdown",
   "metadata": {},
   "source": [
    "Ok, apareceu o problema. Mas considere que o problema original não precisava de IN desde o começo! Construa essa solução."
   ]
  },
  {
   "cell_type": "code",
   "execution_count": null,
   "metadata": {},
   "outputs": [],
   "source": []
  },
  {
   "cell_type": "markdown",
   "metadata": {},
   "source": [
    "# `UNION`\n",
    "\n",
    "Quando duas tabelas tem **EXATAMENTE** as mesmas colunas, podemos concatená-las e formar uma grande tabela unificada usando o operador `UNION`. Por exemplo: suponha que desejamos montar uma lista dos nomes e sobrenomes de todos os clientes E de todos os funcionários. Eis uma solução possível:"
   ]
  },
  {
   "cell_type": "code",
   "execution_count": null,
   "metadata": {},
   "outputs": [],
   "source": [
    "db('DROP TABLE IF EXISTS nomes_clientes')\n",
    "db('''\n",
    "CREATE TEMPORARY TABLE nomes_clientes \n",
    "    SELECT first_name, last_name FROM customer\n",
    "''')"
   ]
  },
  {
   "cell_type": "code",
   "execution_count": null,
   "metadata": {},
   "outputs": [],
   "source": [
    "db('DESCRIBE nomes_clientes')\n",
    "db('SELECT * FROM nomes_clientes LIMIT 5')"
   ]
  },
  {
   "cell_type": "code",
   "execution_count": null,
   "metadata": {},
   "outputs": [],
   "source": [
    "db('DROP TABLE IF EXISTS nomes_staff')\n",
    "db('''\n",
    "CREATE TEMPORARY TABLE nomes_staff \n",
    "    SELECT first_name, last_name FROM staff\n",
    "''')"
   ]
  },
  {
   "cell_type": "code",
   "execution_count": null,
   "metadata": {},
   "outputs": [],
   "source": [
    "db('DESCRIBE nomes_staff')\n",
    "db('SELECT * FROM nomes_staff LIMIT 5')"
   ]
  },
  {
   "cell_type": "code",
   "execution_count": null,
   "metadata": {},
   "outputs": [],
   "source": [
    "db('DROP TABLE IF EXISTS nomes_all')\n",
    "db('''\n",
    "CREATE TEMPORARY TABLE nomes_all \n",
    "    (SELECT * FROM nomes_staff) \n",
    "    UNION \n",
    "    (SELECT * FROM nomes_clientes)\n",
    "''')"
   ]
  },
  {
   "cell_type": "code",
   "execution_count": null,
   "metadata": {},
   "outputs": [],
   "source": [
    "db('DESCRIBE nomes_all')\n",
    "db('SELECT * FROM nomes_all LIMIT 5')"
   ]
  },
  {
   "cell_type": "code",
   "execution_count": null,
   "metadata": {},
   "outputs": [],
   "source": [
    "db('DROP TABLE IF EXISTS nomes_clientes')\n",
    "db('DROP TABLE IF EXISTS nomes_staff')\n",
    "db('DROP TABLE IF EXISTS nomes_all')"
   ]
  },
  {
   "cell_type": "markdown",
   "metadata": {},
   "source": [
    "**Vamos praticar:** refaça o exemplo acima mas use *subqueries* ao invés de *temp tables*."
   ]
  },
  {
   "cell_type": "code",
   "execution_count": null,
   "metadata": {},
   "outputs": [],
   "source": []
  },
  {
   "cell_type": "markdown",
   "metadata": {},
   "source": [
    "## Desafios!"
   ]
  },
  {
   "cell_type": "markdown",
   "metadata": {},
   "source": [
    "Faça uma lista de filmes que tenham mais de dois atores cujo nome inicia com a mesma letra do título do filme!"
   ]
  },
  {
   "cell_type": "code",
   "execution_count": null,
   "metadata": {},
   "outputs": [],
   "source": []
  },
  {
   "cell_type": "markdown",
   "metadata": {},
   "source": [
    "Semana do \"DAN HARRIS\": liste os clientes que nunca assistiram um filme do ator \"DAN HARRIS\" ou que já assistiram mas onde a ultima vez em que assistiram um filme dele foi antes de '2005-06-01'"
   ]
  },
  {
   "cell_type": "code",
   "execution_count": null,
   "metadata": {},
   "outputs": [],
   "source": []
  },
  {
   "cell_type": "markdown",
   "metadata": {},
   "source": [
    "## Conclusão"
   ]
  },
  {
   "cell_type": "markdown",
   "metadata": {},
   "source": [
    "Façamos uma pausa para apreciar quão longe estamos: já conseguimos criar nossas tabelas, inserir informação, removê-la, atualizá-la, e consultar nossa base de maneiras bem sofisticadas! Vimos desde `SELECT` simples até buscas mais complexas envolvendo várias etapas de processamento para obter o dado desejado.\n",
    "\n",
    "Por hoje é só, feche sua conexão e bom descanso!"
   ]
  },
  {
   "cell_type": "code",
   "execution_count": null,
   "metadata": {},
   "outputs": [],
   "source": [
    "connection.close()"
   ]
  },
  {
   "cell_type": "code",
   "execution_count": null,
   "metadata": {},
   "outputs": [],
   "source": []
  }
 ],
 "metadata": {
  "kernelspec": {
   "display_name": "Python 3",
   "language": "python",
   "name": "python3"
  },
  "language_info": {
   "codemirror_mode": {
    "name": "ipython",
    "version": 3
   },
   "file_extension": ".py",
   "mimetype": "text/x-python",
   "name": "python",
   "nbconvert_exporter": "python",
   "pygments_lexer": "ipython3",
   "version": "3.8.5"
  }
 },
 "nbformat": 4,
 "nbformat_minor": 4
}
