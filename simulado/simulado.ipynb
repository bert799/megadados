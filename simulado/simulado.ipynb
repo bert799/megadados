{
 "cells": [
  {
   "cell_type": "code",
   "execution_count": 1,
   "metadata": {},
   "outputs": [],
   "source": [
    "import mysql.connector\n",
    "from functools import partial\n",
    "\n",
    "\n",
    "def get_connection_helper():\n",
    "\n",
    "    def run_db_query(connection, query, args=None):\n",
    "        with connection.cursor() as cursor:\n",
    "            print('Executando query:')\n",
    "            cursor.execute(query, args)\n",
    "            for result in cursor:\n",
    "                print(result)\n",
    "\n",
    "    connection = mysql.connector.connect(\n",
    "        host='localhost',\n",
    "        user='megadados',\n",
    "        password='megadados',\n",
    "        database='XPTO',\n",
    "    )\n",
    "    return connection, partial(run_db_query, connection)\n",
    "\n",
    "\n",
    "connection, db = get_connection_helper()"
   ]
  },
  {
   "cell_type": "code",
   "execution_count": 2,
   "metadata": {},
   "outputs": [
    {
     "name": "stdout",
     "output_type": "stream",
     "text": [
      "Executando query:\n",
      "('calabresa', 100.0)\n",
      "('incoerente', 200.0)\n",
      "('legumes', 100.0)\n",
      "('mussarela', 100.0)\n",
      "('pão', 100.0)\n"
     ]
    }
   ],
   "source": [
    "db('''\n",
    "SELECT\n",
    "    *\n",
    "FROM \n",
    "    pizza\n",
    "\n",
    "''')"
   ]
  },
  {
   "cell_type": "code",
   "execution_count": null,
   "metadata": {},
   "outputs": [],
   "source": []
  }
 ],
 "metadata": {
  "kernelspec": {
   "display_name": "Python 3",
   "language": "python",
   "name": "python3"
  },
  "language_info": {
   "codemirror_mode": {
    "name": "ipython",
    "version": 3
   },
   "file_extension": ".py",
   "mimetype": "text/x-python",
   "name": "python",
   "nbconvert_exporter": "python",
   "pygments_lexer": "ipython3",
   "version": "3.8.5"
  }
 },
 "nbformat": 4,
 "nbformat_minor": 4
}
