{
 "cells": [
  {
   "cell_type": "code",
   "execution_count": 1,
   "metadata": {},
   "outputs": [],
   "source": [
    "import mysql.connector\n",
    "from functools import partial\n",
    "\n",
    "\n",
    "def get_connection_helper():\n",
    "\n",
    "    def run_db_query(connection, query, args=None):\n",
    "        with connection.cursor() as cursor:\n",
    "            print('Executando query:')\n",
    "            cursor.execute(query, args)\n",
    "            for result in cursor:\n",
    "                print(result)\n",
    "\n",
    "    connection = mysql.connector.connect(\n",
    "        host='localhost',\n",
    "        user='megadados',\n",
    "        password='megadados',\n",
    "        database='XPTO',\n",
    "    )\n",
    "    return connection, partial(run_db_query, connection)\n",
    "\n",
    "\n",
    "connection, db = get_connection_helper()"
   ]
  },
  {
   "cell_type": "code",
   "execution_count": 2,
   "metadata": {},
   "outputs": [
    {
     "name": "stdout",
     "output_type": "stream",
     "text": [
      "Executando query:\n",
      "('calabresa', 100.0)\n",
      "('incoerente', 200.0)\n",
      "('legumes', 100.0)\n",
      "('mussarela', 100.0)\n",
      "('pão', 100.0)\n"
     ]
    }
   ],
   "source": [
    "db('''\n",
    "SELECT\n",
    "    *\n",
    "FROM \n",
    "    pizza\n",
    "\n",
    "''')"
   ]
  },
  {
   "cell_type": "markdown",
   "metadata": {},
   "source": [
    "### 1.a)\n",
    "Liste as 3 pizzas que dão mais lucro. O lucro de uma pizza é o seu preço de venda menos o\n",
    "custo total dos ingredientes nela utilizados (não se esqueça de que cada ingrediente da pizza tem uma\n",
    "especificação de quantidade a ser utilizada)."
   ]
  },
  {
   "cell_type": "code",
   "execution_count": 7,
   "metadata": {},
   "outputs": [
    {
     "name": "stdout",
     "output_type": "stream",
     "text": [
      "Executando query:\n",
      "('pão', 95.0)\n",
      "('incoerente', 83.0)\n",
      "('legumes', 78.0)\n"
     ]
    }
   ],
   "source": [
    "db('''\n",
    "SELECT\n",
    "    pizza, preco - SUM(preco_unitario*quantidade) as lucro\n",
    "FROM \n",
    "    pizza\n",
    "    INNER JOIN ingredientepizza USING(pizza)\n",
    "    INNER JOIN ingrediente USING(ingrediente)\n",
    "GROUP BY\n",
    "    pizza\n",
    "ORDER BY\n",
    "    lucro DESC\n",
    "LIMIT \n",
    "    3\n",
    "''')"
   ]
  },
  {
   "cell_type": "markdown",
   "metadata": {},
   "source": [
    "### 1.b) \n",
    "Construa uma tabela temporária que liste todas as pizzas e a quantidade de ingredientes nela"
   ]
  },
  {
   "cell_type": "code",
   "execution_count": 18,
   "metadata": {},
   "outputs": [
    {
     "name": "stdout",
     "output_type": "stream",
     "text": [
      "Executando query:\n",
      "Executando query:\n",
      "Executando query:\n",
      "('calabresa', 2)\n",
      "('incoerente', 4)\n",
      "('legumes', 2)\n",
      "('mussarela', 2)\n",
      "('pão', 1)\n"
     ]
    }
   ],
   "source": [
    "db('''\n",
    "    DROP TABLE IF EXISTS QtdeTotal;\n",
    "''')\n",
    "\n",
    "db('''\n",
    "CREATE TEMPORARY TABLE QtdeTotal\n",
    "\n",
    "SELECT\n",
    "    pizza, COUNT(ingrediente) as qtde_total\n",
    "FROM \n",
    "    ingredientepizza\n",
    "GROUP BY\n",
    "    pizza\n",
    "''')\n",
    "\n",
    "db('''\n",
    "SELECT * FROM QtdeTotal;\n",
    "''')"
   ]
  },
  {
   "cell_type": "markdown",
   "metadata": {},
   "source": [
    "### 1.c)\n",
    "Construa uma tabela temporária que liste todas as pizzas a quantidade de ingredientes\n",
    "veganos nela (ou seja, onde o tipo é “vegana”)"
   ]
  },
  {
   "cell_type": "code",
   "execution_count": 19,
   "metadata": {},
   "outputs": [
    {
     "name": "stdout",
     "output_type": "stream",
     "text": [
      "Executando query:\n",
      "Executando query:\n",
      "Executando query:\n",
      "('legumes', 2)\n",
      "('incoerente', 2)\n"
     ]
    }
   ],
   "source": [
    "db('''\n",
    "    DROP TABLE IF EXISTS QtdeVegano;\n",
    "''')\n",
    "\n",
    "db('''\n",
    "CREATE TEMPORARY TABLE QtdeVegano\n",
    "\n",
    "SELECT\n",
    "    pizza, COUNT(ingrediente) as qtde_vegano\n",
    "FROM \n",
    "    ingredientepizza\n",
    "    INNER JOIN ingredientetipo USING(ingrediente)\n",
    "WHERE\n",
    "    tipo = 'vegana'\n",
    "GROUP BY\n",
    "    pizza\n",
    "''')\n",
    "\n",
    "db('''\n",
    "SELECT * FROM QtdeVegano;\n",
    "''')"
   ]
  },
  {
   "cell_type": "markdown",
   "metadata": {},
   "source": [
    "### 1.d)\n",
    "Usando as tabelas temporárias dos itens (b) e (c) – mesmo que você não os tenha feito – liste\n",
    "as pizzas veganas da pizzaria. Uma pizza é vegana se todos os seus ingredientes são veganos."
   ]
  },
  {
   "cell_type": "code",
   "execution_count": 21,
   "metadata": {},
   "outputs": [
    {
     "name": "stdout",
     "output_type": "stream",
     "text": [
      "Executando query:\n",
      "('legumes',)\n"
     ]
    }
   ],
   "source": [
    "db('''\n",
    "SELECT\n",
    "    pizza\n",
    "FROM \n",
    "    QtdeTotal\n",
    "    INNER JOIN QtdeVegano USING(pizza)\n",
    "WHERE\n",
    "    qtde_total = qtde_vegano\n",
    "GROUP BY\n",
    "    pizza\n",
    "''')"
   ]
  },
  {
   "cell_type": "markdown",
   "metadata": {},
   "source": [
    "### 1.e)\n",
    "Liste os ingredientes e seus tipos, um ingrediente por linha (Dica: use a função\n",
    "GROUP_CONCAT). O resultado deve ser da seguinte forma:"
   ]
  },
  {
   "cell_type": "code",
   "execution_count": 28,
   "metadata": {},
   "outputs": [
    {
     "name": "stdout",
     "output_type": "stream",
     "text": [
      "Executando query:\n",
      "Executando query:\n",
      "Executando query:\n",
      "('abobrinha', 'sem gluten, sem lactose, vegana, vegetariana')\n",
      "('calabresa', 'sem gluten, sem lactose')\n",
      "('massa', 'vegetariana')\n",
      "('massa sem gluten', 'sem gluten, sem lactose, vegana, vegetariana')\n",
      "('mussarela', 'sem gluten, vegetariana')\n",
      "('mussarela vegana', 'sem gluten, sem lactose, vegana, vegetariana')\n",
      "('picanha', 'sem gluten, sem lactose')\n"
     ]
    }
   ],
   "source": [
    "db('DROP TABLE IF EXISTS ingrediente_tipos')\n",
    "db('''\n",
    "CREATE TEMPORARY TABLE ingrediente_tipos\n",
    "    SELECT \n",
    "        ingrediente, \n",
    "        CONCAT(\n",
    "            GROUP_CONCAT(tipo ORDER BY tipo SEPARATOR \", \")\n",
    "        ) as lista_tipos\n",
    "    FROM\n",
    "        ingredientetipo  \n",
    "    GROUP BY\n",
    "        ingrediente\n",
    "''')\n",
    "db('''\n",
    "SELECT * FROM ingrediente_tipos;\n",
    "''')"
   ]
  },
  {
   "cell_type": "markdown",
   "metadata": {},
   "source": [
    "### 3.a)\n",
    "\n",
    "Por que normalizar um design de banco de dados?"
   ]
  },
  {
   "cell_type": "code",
   "execution_count": null,
   "metadata": {},
   "outputs": [],
   "source": [
    "Para facilitar o uso, já inputs e modelos são padronizados\n",
    "e para facilitar a manutenção e expansão já que a informação é apresentada de forma clara e consistente"
   ]
  },
  {
   "cell_type": "markdown",
   "metadata": {},
   "source": [
    "### 3.b)\n",
    "\n",
    "Por que usar um sistema de gerenciamento de banco de dados e não um arquivo simples?"
   ]
  },
  {
   "cell_type": "code",
   "execution_count": null,
   "metadata": {},
   "outputs": [],
   "source": [
    "Pode não caber na RAM!\n",
    "Existem maneiras eficientes\n",
    "de armazenar e recuperar dados!\n",
    "O SGBD já vem com mecanismos\n",
    "sofisticados de consulta!\n",
    "Um bom projeto evita redundâncias\n",
    "gerencia transações e mantém consistência!\n",
    "Controle de acesso e registro de atividade!\n",
    "Proteção contra falhas!"
   ]
  },
  {
   "cell_type": "markdown",
   "metadata": {},
   "source": [
    "### 3.d)\n",
    "\n",
    "Qual a diferença entre WHERE e HAVING?"
   ]
  },
  {
   "cell_type": "code",
   "execution_count": null,
   "metadata": {},
   "outputs": [],
   "source": [
    "Where é usado antes de agrupamentos e o having depois"
   ]
  }
 ],
 "metadata": {
  "kernelspec": {
   "display_name": "Python 3 (ipykernel)",
   "language": "python",
   "name": "python3"
  },
  "language_info": {
   "codemirror_mode": {
    "name": "ipython",
    "version": 3
   },
   "file_extension": ".py",
   "mimetype": "text/x-python",
   "name": "python",
   "nbconvert_exporter": "python",
   "pygments_lexer": "ipython3",
   "version": "3.9.12"
  }
 },
 "nbformat": 4,
 "nbformat_minor": 4
}
